{
 "cells": [
  {
   "cell_type": "markdown",
   "id": "5b59441a",
   "metadata": {},
   "source": [
    "# SETUP PART"
   ]
  },
  {
   "cell_type": "code",
   "execution_count": 1,
   "id": "58fd9c96",
   "metadata": {},
   "outputs": [
    {
     "name": "stderr",
     "output_type": "stream",
     "text": [
      "2023-05-21 14:44:44.247979: I tensorflow/core/platform/cpu_feature_guard.cc:193] This TensorFlow binary is optimized with oneAPI Deep Neural Network Library (oneDNN) to use the following CPU instructions in performance-critical operations:  AVX2 FMA\n",
      "To enable them in other operations, rebuild TensorFlow with the appropriate compiler flags.\n",
      "2023-05-21 14:44:44.653297: W tensorflow/compiler/xla/stream_executor/platform/default/dso_loader.cc:64] Could not load dynamic library 'libcudart.so.11.0'; dlerror: libcudart.so.11.0: cannot open shared object file: No such file or directory\n",
      "2023-05-21 14:44:44.653312: I tensorflow/compiler/xla/stream_executor/cuda/cudart_stub.cc:29] Ignore above cudart dlerror if you do not have a GPU set up on your machine.\n",
      "2023-05-21 14:44:46.301976: W tensorflow/compiler/xla/stream_executor/platform/default/dso_loader.cc:64] Could not load dynamic library 'libnvinfer.so.7'; dlerror: libnvinfer.so.7: cannot open shared object file: No such file or directory\n",
      "2023-05-21 14:44:46.302188: W tensorflow/compiler/xla/stream_executor/platform/default/dso_loader.cc:64] Could not load dynamic library 'libnvinfer_plugin.so.7'; dlerror: libnvinfer_plugin.so.7: cannot open shared object file: No such file or directory\n",
      "2023-05-21 14:44:46.302197: W tensorflow/compiler/tf2tensorrt/utils/py_utils.cc:38] TF-TRT Warning: Cannot dlopen some TensorRT libraries. If you would like to use Nvidia GPU with TensorRT, please make sure the missing libraries mentioned above are installed properly.\n"
     ]
    },
    {
     "name": "stdout",
     "output_type": "stream",
     "text": [
      "TensorFlow version:  2.11.0\n"
     ]
    }
   ],
   "source": [
    "import logging\n",
    "logging.getLogger(\"tensorflow\").setLevel(logging.DEBUG)\n",
    "\n",
    "import tensorflow as tf\n",
    "import numpy as np\n",
    "print(\"TensorFlow version: \", tf.__version__)"
   ]
  },
  {
   "cell_type": "code",
   "execution_count": null,
   "id": "8bf822dc",
   "metadata": {},
   "outputs": [],
   "source": []
  },
  {
   "cell_type": "markdown",
   "id": "ef3f977a",
   "metadata": {},
   "source": [
    "# GET MODEL INPUT AND LABELS"
   ]
  },
  {
   "cell_type": "code",
   "execution_count": 2,
   "id": "dfcf1e24",
   "metadata": {},
   "outputs": [],
   "source": [
    "# Load MNIST dataset\n",
    "mnist = tf.keras.datasets.mnist\n",
    "(train_images, train_labels), (test_images, test_labels) = mnist.load_data()\n",
    "\n",
    "# Normalize the input image so that each pixel value is between 0 to 1.\n",
    "train_images = train_images.astype(np.float32) / 255.0\n",
    "test_images = test_images.astype(np.float32) / 255.0"
   ]
  },
  {
   "cell_type": "code",
   "execution_count": null,
   "id": "4e7aafbe",
   "metadata": {},
   "outputs": [],
   "source": []
  },
  {
   "cell_type": "code",
   "execution_count": 3,
   "id": "fcf34a05",
   "metadata": {},
   "outputs": [],
   "source": [
    "INPUT_S = 0.003921568859368563\n",
    "INPUT_Z = 128\n",
    "\n",
    "NUMBER_OF_TEST = 100"
   ]
  },
  {
   "cell_type": "code",
   "execution_count": 8,
   "id": "c827ae13",
   "metadata": {},
   "outputs": [],
   "source": [
    "INPUT_SIZE_STR  = \"const int model_input_dims[] = {\"\\\n",
    "                + str(test_images[0].shape[0]) + \", \"\\\n",
    "                + str(test_images[0].shape[1]) + \", \"\\\n",
    "                +  \"1};\\n\\n\"\n",
    "\n",
    "NUMBER_OF_TEST_STR = \"const int number_of_test = \" + str(NUMBER_OF_TEST) + \";\\n\"\n",
    "\n",
    "TEST_IMAGE_ARR  = \"const int8_t test_images[][\"\\\n",
    "                + str(test_images[0].shape[0]) + \" * \"\\\n",
    "                + str(test_images[0].shape[1]) + \" * \"\\\n",
    "                + \"1] = {\\n\"\n",
    "\n",
    "for idx in range(NUMBER_OF_TEST):\n",
    "    TEST_IMAGE_ARR += \"\\t{\\n\"\n",
    "    for line in test_images[idx]:\n",
    "        TEST_IMAGE_ARR += '\\t\\t'\n",
    "        for ele in line:\n",
    "            ele_quant = int((ele/INPUT_S) - 128)\n",
    "            TEST_IMAGE_ARR += str(ele_quant) + ', '\n",
    "        TEST_IMAGE_ARR += '\\n'\n",
    "    TEST_IMAGE_ARR += \"\\t},\\n\"\n",
    "\n",
    "TEST_IMAGE_ARR = TEST_IMAGE_ARR[:-2] + \"\\n};\"\n",
    "\n",
    "TEST_LABEL_ARR = \"const int8_t test_labels[] = {\\n\\t\"\n",
    "for idx in range(NUMBER_OF_TEST):\n",
    "    TEST_LABEL_ARR += str(test_labels[idx]) + ', '\n",
    "    \n",
    "TEST_LABEL_ARR = TEST_LABEL_ARR[:-2] + \"\\n};\\n\"\n",
    "\n",
    "with open(\"out_log/model_input.log\", \"w\") as log:\n",
    "    log.write(\"#include \\\"mnist_input_data.h\\\"\\n\\n\")\n",
    "    log.write(INPUT_SIZE_STR)\n",
    "    log.write(NUMBER_OF_TEST_STR)\n",
    "    log.write(TEST_LABEL_ARR)\n",
    "    log.write(TEST_IMAGE_ARR)"
   ]
  },
  {
   "cell_type": "markdown",
   "id": "acc6ade5",
   "metadata": {},
   "source": [
    "### Custom for int32_t* data"
   ]
  },
  {
   "cell_type": "code",
   "execution_count": 7,
   "id": "5c3841d0",
   "metadata": {},
   "outputs": [],
   "source": [
    "NUMBER_OF_TEST_STR = \"const int number_of_test = \" + str(NUMBER_OF_TEST) + \";\\n\"\n",
    "\n",
    "TEST_IMAGE_ARR  = \"const int8_t test_images[][\"\\\n",
    "                + str(test_images[0].shape[0]) + \" * \"\\\n",
    "                + str(test_images[0].shape[1]) + \" * \"\\\n",
    "                + \"1] = {\\n\"\n",
    "\n",
    "for idx in range(NUMBER_OF_TEST):\n",
    "    TEST_IMAGE_ARR += \"\\t{\\n\"\n",
    "    for line in test_images[idx]:\n",
    "        TEST_IMAGE_ARR += '\\t\\t'\n",
    "        for ele in line:\n",
    "            ele_quant = int((ele/INPUT_S) - 128)\n",
    "            TEST_IMAGE_ARR += str(ele_quant) + ', '\n",
    "        TEST_IMAGE_ARR += '\\n'\n",
    "    TEST_IMAGE_ARR += \"\\t},\\n\"\n",
    "\n",
    "TEST_IMAGE_ARR = TEST_IMAGE_ARR[:-2] + \"\\n};\"\n",
    "\n",
    "TEST_LABEL_ARR = \"const int8_t test_labels[] = {\\n\\t\"\n",
    "for idx in range(NUMBER_OF_TEST):\n",
    "    TEST_LABEL_ARR += str(test_labels[idx]) + ', '\n",
    "    \n",
    "TEST_LABEL_ARR = TEST_LABEL_ARR[:-2] + \"\\n};\\n\"\n",
    "\n",
    "with open(\"out_log/test_model_input.log\", \"w\") as log:\n",
    "    log.write(\"#include \\\"mnist_data.h\\\"\\n\\n\")\n",
    "    log.write(NUMBER_OF_TEST_STR)\n",
    "    log.write(TEST_IMAGE_ARR)"
   ]
  },
  {
   "cell_type": "markdown",
   "id": "1c655c1b",
   "metadata": {},
   "source": [
    "# GET MODEL PARAMETERS"
   ]
  },
  {
   "cell_type": "code",
   "execution_count": null,
   "id": "d61b7d98",
   "metadata": {},
   "outputs": [],
   "source": []
  },
  {
   "cell_type": "code",
   "execution_count": 38,
   "id": "40c1fe91",
   "metadata": {},
   "outputs": [],
   "source": [
    "CONV_WEIGHT_SIZE_STR = \"const int conv_weight_dims[] = {3, 3, 1, 12};\\n\\n\"\n",
    "\n",
    "CONV_WEIGHT_ARR_STR = \"const int8_t conv_weight_data[] = {\\n\"\n",
    "\n",
    "conv_weight = np.load('mnist_model/conv_weight.npy')\n",
    "\n",
    "# Consider\n",
    "for nok_i in range(12):\n",
    "    for c_i in range(1):\n",
    "        CONV_WEIGHT_ARR_STR += '\\t'\n",
    "        for h_i in range(3):\n",
    "            for w_i in range(3):\n",
    "                CONV_WEIGHT_ARR_STR += str(conv_weight[nok_i][h_i][w_i][c_i]) + ', '\n",
    "        CONV_WEIGHT_ARR_STR += '\\n'\n",
    "\n",
    "CONV_WEIGHT_ARR_STR = CONV_WEIGHT_ARR_STR[:-3] + \"\\n};\""
   ]
  },
  {
   "cell_type": "code",
   "execution_count": 39,
   "id": "059869c1",
   "metadata": {},
   "outputs": [],
   "source": [
    "with open(\"out_log/conv_weight.log\", \"w\") as log:\n",
    "    log.write(CONV_WEIGHT_SIZE_STR)\n",
    "    log.write(CONV_WEIGHT_ARR_STR)"
   ]
  },
  {
   "cell_type": "code",
   "execution_count": null,
   "id": "5fca7abe",
   "metadata": {},
   "outputs": [],
   "source": []
  },
  {
   "cell_type": "code",
   "execution_count": 36,
   "id": "bb363e0f",
   "metadata": {},
   "outputs": [],
   "source": [
    "CONV_BIAS_SIZE_STR = \"const int conv_bias_dims[] = {12};\\n\\n\"\n",
    "\n",
    "CONV_BIAS_ARR_STR = \"const int32_t conv_bias_data[] = {\\n\"\n",
    "\n",
    "conv_bias = np.load('mnist_model/conv_bias.npy')\n",
    "\n",
    "CONV_BIAS_ARR_STR += '\\t'\n",
    "for nok_i in range(12):\n",
    "    CONV_BIAS_ARR_STR += str(conv_bias[nok_i]) + ', '\n",
    "    \n",
    "CONV_BIAS_ARR_STR = CONV_BIAS_ARR_STR[:-2] + \"\\n};\""
   ]
  },
  {
   "cell_type": "code",
   "execution_count": 37,
   "id": "674e9bc8",
   "metadata": {},
   "outputs": [],
   "source": [
    "with open(\"out_log/conv_bias.log\", \"w\") as log:\n",
    "    log.write(CONV_BIAS_SIZE_STR)\n",
    "    log.write(CONV_BIAS_ARR_STR)"
   ]
  },
  {
   "cell_type": "code",
   "execution_count": null,
   "id": "cdb1ef3f",
   "metadata": {},
   "outputs": [],
   "source": []
  },
  {
   "cell_type": "code",
   "execution_count": 34,
   "id": "58d566d6",
   "metadata": {},
   "outputs": [],
   "source": [
    "DENSE_WEIGHT_SIZE_STR = \"const int dense_weight_dims[] = {10, 2028};\\n\\n\"\n",
    "\n",
    "DENSE_WEIGHT_ARR_STR = \"const int8_t dense_weight_data[] = {\\n\"\n",
    "\n",
    "dense_weight = np.load('mnist_model/dense_weight.npy')\n",
    "\n",
    "# for dense_h_i in range(10):\n",
    "#     for dense_w_i in range(2028):\n",
    "#         DENSE_WEIGHT_ARR_STR += str(dense_weight[dense_h_i][dense_w_i]) + ', '\n",
    "#     DENSE_WEIGHT_ARR_STR += '\\n'\n",
    "for dense_h_i in range(10):\n",
    "    DENSE_WEIGHT_ARR_STR += '\\t'\n",
    "    for conv_c_i in range(12):\n",
    "        for conv_h_i in range(13):\n",
    "            for conv_w_i in range(13):\n",
    "                DENSE_WEIGHT_ARR_STR += str(dense_weight[dense_h_i][156*conv_h_i + 12*conv_w_i + conv_c_i]) + ', '\n",
    "    DENSE_WEIGHT_ARR_STR += '\\n'\n",
    "\n",
    "DENSE_WEIGHT_ARR_STR = DENSE_WEIGHT_ARR_STR[:-3] + \"\\n};\""
   ]
  },
  {
   "cell_type": "code",
   "execution_count": 35,
   "id": "6dc29a1e",
   "metadata": {},
   "outputs": [],
   "source": [
    "with open(\"out_log/dense_weight.log\", \"w\") as log:\n",
    "    log.write(DENSE_WEIGHT_SIZE_STR)\n",
    "    log.write(DENSE_WEIGHT_ARR_STR)"
   ]
  },
  {
   "cell_type": "code",
   "execution_count": null,
   "id": "4abb07ec",
   "metadata": {},
   "outputs": [],
   "source": []
  },
  {
   "cell_type": "code",
   "execution_count": 176,
   "id": "0d58aed7",
   "metadata": {},
   "outputs": [],
   "source": [
    "DENSE_BIAS_SIZE_STR = \"const int dense_bias_dims[] = {10};\\n\\n\"\n",
    "\n",
    "DENSE_BIAS_ARR_STR = \"const int32_t dense_bias_data[] = {\\n\"\n",
    "\n",
    "dense_bias = np.load('mnist_model/dense_bias.npy')\n",
    "\n",
    "DENSE_BIAS_ARR_STR += '\\t'\n",
    "for nok_i in range(10):\n",
    "    DENSE_BIAS_ARR_STR += str(dense_bias[nok_i]) + ', '\n",
    "    \n",
    "DENSE_BIAS_ARR_STR = DENSE_BIAS_ARR_STR[:-2] + \"\\n};\""
   ]
  },
  {
   "cell_type": "code",
   "execution_count": 177,
   "id": "3b12c3d4",
   "metadata": {},
   "outputs": [],
   "source": [
    "with open(\"out_log/dense_bias.log\", \"w\") as log:\n",
    "    log.write(DENSE_BIAS_SIZE_STR)\n",
    "    log.write(DENSE_BIAS_ARR_STR)"
   ]
  },
  {
   "cell_type": "markdown",
   "id": "b221205b",
   "metadata": {},
   "source": [
    "# FOR DEMO\n"
   ]
  },
  {
   "cell_type": "code",
   "execution_count": 20,
   "id": "445b6670",
   "metadata": {},
   "outputs": [
    {
     "name": "stdout",
     "output_type": "stream",
     "text": [
      "GET INPUT!!!\n"
     ]
    }
   ],
   "source": [
    "INPUT_SIZE_STR = \"const int model_input_dims[] = {28, 28, 1};\\n\\n\"\n",
    "\n",
    "INPUT_ARR_STR  = \"const int8_t model_input_data[] = {\\n\"\n",
    "for line in demo_test:\n",
    "    INPUT_ARR_STR += '\\t'\n",
    "    for ele in line:\n",
    "        ele_quant = int((ele/INPUT_S) - INPUT_Z) \n",
    "        INPUT_ARR_STR += str(ele_quant) + ', '\n",
    "    INPUT_ARR_STR += '\\n'\n",
    "    \n",
    "INPUT_ARR_STR = INPUT_ARR_STR[:-2] + \"\\n};\"\n",
    "with open(\"out_log/demo_model_input.log\", \"w\") as log:\n",
    "    log.write(INPUT_SIZE_STR)\n",
    "    log.write(INPUT_ARR_STR)\n",
    "print(\"GET INPUT!!!\")"
   ]
  },
  {
   "cell_type": "code",
   "execution_count": 21,
   "id": "81a647c7",
   "metadata": {},
   "outputs": [
    {
     "name": "stdout",
     "output_type": "stream",
     "text": [
      "GET WEIGHT!!!\n"
     ]
    }
   ],
   "source": [
    "CONV_WEIGHT_SIZE_STR = \"const int conv_weight_dims[] = {3, 3, 1, 2};\\n\\n\"\n",
    "\n",
    "CONV_WEIGHT_ARR_STR = \"const int8_t conv_weight_data[] = {\\n\"\n",
    "\n",
    "conv_weight = np.load('demo_model/conv_weight.npy')\n",
    "\n",
    "# Consider\n",
    "for nok_i in range(2):\n",
    "    for c_i in range(1):\n",
    "        CONV_WEIGHT_ARR_STR += '\\t'\n",
    "        for h_i in range(3):\n",
    "            for w_i in range(3):\n",
    "                CONV_WEIGHT_ARR_STR += str(conv_weight[nok_i][h_i][w_i][c_i]) + ', '\n",
    "        CONV_WEIGHT_ARR_STR += '\\n'\n",
    "\n",
    "CONV_WEIGHT_ARR_STR = CONV_WEIGHT_ARR_STR[:-3] + \"\\n};\"\n",
    "with open(\"out_log/demo_conv_weight.log\", \"w\") as log:\n",
    "    log.write(CONV_WEIGHT_SIZE_STR)\n",
    "    log.write(CONV_WEIGHT_ARR_STR)\n",
    "print(\"GET WEIGHT!!!\")"
   ]
  },
  {
   "cell_type": "code",
   "execution_count": 22,
   "id": "0ecf4d91",
   "metadata": {},
   "outputs": [
    {
     "name": "stdout",
     "output_type": "stream",
     "text": [
      "GET BIAS!!!\n"
     ]
    }
   ],
   "source": [
    "CONV_BIAS_SIZE_STR = \"const int conv_bias_dims[] = {2};\\n\\n\"\n",
    "\n",
    "CONV_BIAS_ARR_STR = \"const int32_t conv_bias_data[] = {\\n\"\n",
    "\n",
    "conv_bias = np.load('demo_model/conv_bias.npy')\n",
    "\n",
    "CONV_BIAS_ARR_STR += '\\t'\n",
    "for nok_i in range(2):\n",
    "    CONV_BIAS_ARR_STR += str(conv_bias[nok_i]) + ', '\n",
    "    \n",
    "CONV_BIAS_ARR_STR = CONV_BIAS_ARR_STR[:-2] + \"\\n};\"\n",
    "with open(\"out_log/demo_conv_bias.log\", \"w\") as log:\n",
    "    log.write(CONV_BIAS_SIZE_STR)\n",
    "    log.write(CONV_BIAS_ARR_STR)\n",
    "print(\"GET BIAS!!!\")"
   ]
  },
  {
   "cell_type": "code",
   "execution_count": 33,
   "id": "1200a9f4",
   "metadata": {},
   "outputs": [],
   "source": [
    "DENSE_WEIGHT_SIZE_STR = \"const int dense_weight_dims[] = {10, 338};\\n\\n\"\n",
    "\n",
    "DENSE_WEIGHT_ARR_STR = \"const int8_t dense_weight_data[] = {\\n\"\n",
    "\n",
    "dense_weight = np.load('demo_model/dense_weight.npy')\n",
    "\n",
    "# for dense_h_i in range(10):\n",
    "#     for dense_w_i in range(338):\n",
    "#         DENSE_WEIGHT_ARR_STR += str(dense_weight[dense_h_i][dense_w_i]) + ', '\n",
    "#     DENSE_WEIGHT_ARR_STR += '\\n'\n",
    "for dense_h_i in range(10):\n",
    "    DENSE_WEIGHT_ARR_STR += '\\t'\n",
    "    for conv_c_i in range(2):\n",
    "        for conv_h_i in range(13):\n",
    "            for conv_w_i in range(13):\n",
    "                DENSE_WEIGHT_ARR_STR += str(dense_weight[dense_h_i][26*conv_h_i + 2*conv_w_i + conv_c_i]) + ', '\n",
    "    DENSE_WEIGHT_ARR_STR += '\\n'\n",
    "\n",
    "DENSE_WEIGHT_ARR_STR = DENSE_WEIGHT_ARR_STR[:-3] + \"\\n};\"\n",
    "with open(\"out_log/demo_dense_weight.log\", \"w\") as log:\n",
    "    log.write(DENSE_WEIGHT_SIZE_STR)\n",
    "    log.write(DENSE_WEIGHT_ARR_STR)"
   ]
  },
  {
   "cell_type": "code",
   "execution_count": 24,
   "id": "80a38d55",
   "metadata": {},
   "outputs": [],
   "source": [
    "DENSE_BIAS_SIZE_STR = \"const int dense_bias_dims[] = {10};\\n\\n\"\n",
    "\n",
    "DENSE_BIAS_ARR_STR = \"const int32_t dense_bias_data[] = {\\n\"\n",
    "\n",
    "dense_bias = np.load('demo_model/dense_bias.npy')\n",
    "\n",
    "DENSE_BIAS_ARR_STR += '\\t'\n",
    "for nok_i in range(10):\n",
    "    DENSE_BIAS_ARR_STR += str(dense_bias[nok_i]) + ', '\n",
    "    \n",
    "DENSE_BIAS_ARR_STR = DENSE_BIAS_ARR_STR[:-2] + \"\\n};\"\n",
    "with open(\"out_log/demo_dense_bias.log\", \"w\") as log:\n",
    "    log.write(DENSE_BIAS_SIZE_STR)\n",
    "    log.write(DENSE_BIAS_ARR_STR)"
   ]
  },
  {
   "cell_type": "code",
   "execution_count": null,
   "id": "e9a857d7",
   "metadata": {},
   "outputs": [],
   "source": []
  },
  {
   "cell_type": "code",
   "execution_count": 15,
   "id": "e1caf8c2",
   "metadata": {},
   "outputs": [],
   "source": []
  },
  {
   "cell_type": "code",
   "execution_count": 16,
   "id": "ab7ce131",
   "metadata": {},
   "outputs": [],
   "source": []
  },
  {
   "cell_type": "code",
   "execution_count": null,
   "id": "1961d806",
   "metadata": {},
   "outputs": [],
   "source": []
  },
  {
   "cell_type": "code",
   "execution_count": null,
   "id": "504550bf",
   "metadata": {},
   "outputs": [],
   "source": []
  }
 ],
 "metadata": {
  "kernelspec": {
   "display_name": "Python 3 (ipykernel)",
   "language": "python",
   "name": "python3"
  },
  "language_info": {
   "codemirror_mode": {
    "name": "ipython",
    "version": 3
   },
   "file_extension": ".py",
   "mimetype": "text/x-python",
   "name": "python",
   "nbconvert_exporter": "python",
   "pygments_lexer": "ipython3",
   "version": "3.10.6"
  }
 },
 "nbformat": 4,
 "nbformat_minor": 5
}
