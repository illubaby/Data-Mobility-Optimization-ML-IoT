{
 "cells": [
  {
   "cell_type": "markdown",
   "id": "9384e00e",
   "metadata": {},
   "source": [
    "# Setup"
   ]
  },
  {
   "cell_type": "code",
   "execution_count": 1,
   "id": "ec9edd67",
   "metadata": {},
   "outputs": [
    {
     "name": "stderr",
     "output_type": "stream",
     "text": [
      "2023-06-19 11:08:18.726551: I tensorflow/core/platform/cpu_feature_guard.cc:193] This TensorFlow binary is optimized with oneAPI Deep Neural Network Library (oneDNN) to use the following CPU instructions in performance-critical operations:  AVX2 FMA\n",
      "To enable them in other operations, rebuild TensorFlow with the appropriate compiler flags.\n",
      "2023-06-19 11:08:19.060269: W tensorflow/compiler/xla/stream_executor/platform/default/dso_loader.cc:64] Could not load dynamic library 'libcudart.so.11.0'; dlerror: libcudart.so.11.0: cannot open shared object file: No such file or directory\n",
      "2023-06-19 11:08:19.060333: I tensorflow/compiler/xla/stream_executor/cuda/cudart_stub.cc:29] Ignore above cudart dlerror if you do not have a GPU set up on your machine.\n",
      "2023-06-19 11:08:20.558286: W tensorflow/compiler/xla/stream_executor/platform/default/dso_loader.cc:64] Could not load dynamic library 'libnvinfer.so.7'; dlerror: libnvinfer.so.7: cannot open shared object file: No such file or directory\n",
      "2023-06-19 11:08:20.558405: W tensorflow/compiler/xla/stream_executor/platform/default/dso_loader.cc:64] Could not load dynamic library 'libnvinfer_plugin.so.7'; dlerror: libnvinfer_plugin.so.7: cannot open shared object file: No such file or directory\n",
      "2023-06-19 11:08:20.558415: W tensorflow/compiler/tf2tensorrt/utils/py_utils.cc:38] TF-TRT Warning: Cannot dlopen some TensorRT libraries. If you would like to use Nvidia GPU with TensorRT, please make sure the missing libraries mentioned above are installed properly.\n"
     ]
    },
    {
     "name": "stdout",
     "output_type": "stream",
     "text": [
      "TensorFlow version:  2.11.0\n"
     ]
    }
   ],
   "source": [
    "import logging\n",
    "logging.getLogger(\"tensorflow\").setLevel(logging.DEBUG)\n",
    "\n",
    "import tensorflow as tf\n",
    "import numpy as np\n",
    "import pathlib\n",
    "import matplotlib.pylab as plt\n",
    "print(\"TensorFlow version: \", tf.__version__)"
   ]
  },
  {
   "cell_type": "markdown",
   "id": "2b27a7b6",
   "metadata": {},
   "source": [
    "# Generate a TensorFlow Model\n",
    "We'll build a CNN model to classify numbers from the MNIST dataset based on LeNet-5 Model with change that kernel size from 5x5 to 3x3."
   ]
  },
  {
   "cell_type": "code",
   "execution_count": 2,
   "id": "cceeccca",
   "metadata": {},
   "outputs": [],
   "source": [
    "# Load MNIST dataset\n",
    "mnist = tf.keras.datasets.mnist\n",
    "(train_images, train_labels), (test_images, test_labels) = mnist.load_data()\n",
    "\n",
    "# Normalize the input image so that each pixel value is between 0 to 1.\n",
    "train_images = train_images.astype(np.float32) / 255.0\n",
    "test_images = test_images.astype(np.float32) / 255.0"
   ]
  },
  {
   "cell_type": "code",
   "execution_count": 3,
   "id": "a70acd55",
   "metadata": {},
   "outputs": [
    {
     "data": {
      "image/png": "[encoded data removed]",
      "text/plain": [
       "<Figure size 1500x300 with 20 Axes>"
      ]
     },
     "metadata": {},
     "output_type": "display_data"
    }
   ],
   "source": [
    "fig = plt.figure(figsize=(15,3))\n",
    "for i in range(20):\n",
    "    ax = fig.add_subplot(2,10, i+1, xticks=[], yticks=[])\n",
    "    ax.imshow(np.squeeze(train_images[i]), cmap='gray')\n",
    "    ax.set_title(train_labels[i])"
   ]
  },
  {
   "cell_type": "code",
   "execution_count": 4,
   "id": "06ceae27",
   "metadata": {},
   "outputs": [
    {
     "name": "stderr",
     "output_type": "stream",
     "text": [
      "2023-06-06 22:45:21.005647: W tensorflow/compiler/xla/stream_executor/platform/default/dso_loader.cc:64] Could not load dynamic library 'libcuda.so.1'; dlerror: libcuda.so.1: cannot open shared object file: No such file or directory\n",
      "2023-06-06 22:45:21.005663: W tensorflow/compiler/xla/stream_executor/cuda/cuda_driver.cc:265] failed call to cuInit: UNKNOWN ERROR (303)\n",
      "2023-06-06 22:45:21.005678: I tensorflow/compiler/xla/stream_executor/cuda/cuda_diagnostics.cc:156] kernel driver does not appear to be running on this host (RaizelAsus): /proc/driver/nvidia/version does not exist\n",
      "2023-06-06 22:45:21.005856: I tensorflow/core/platform/cpu_feature_guard.cc:193] This TensorFlow binary is optimized with oneAPI Deep Neural Network Library (oneDNN) to use the following CPU instructions in performance-critical operations:  AVX2 FMA\n",
      "To enable them in other operations, rebuild TensorFlow with the appropriate compiler flags.\n"
     ]
    },
    {
     "name": "stdout",
     "output_type": "stream",
     "text": [
      "Epoch 1/20\n",
      "469/469 [==============================] - 19s 40ms/step - loss: 0.2962 - accuracy: 0.9123 - val_loss: 0.0889 - val_accuracy: 0.9718\n",
      "Epoch 2/20\n",
      "469/469 [==============================] - 20s 42ms/step - loss: 0.0717 - accuracy: 0.9777 - val_loss: 0.0481 - val_accuracy: 0.9854\n",
      "Epoch 3/20\n",
      "469/469 [==============================] - 20s 43ms/step - loss: 0.0482 - accuracy: 0.9851 - val_loss: 0.0415 - val_accuracy: 0.9867\n",
      "Epoch 4/20\n",
      "469/469 [==============================] - 20s 43ms/step - loss: 0.0362 - accuracy: 0.9888 - val_loss: 0.0457 - val_accuracy: 0.9838\n",
      "Epoch 5/20\n",
      "469/469 [==============================] - 20s 43ms/step - loss: 0.0303 - accuracy: 0.9906 - val_loss: 0.0298 - val_accuracy: 0.9896\n",
      "Epoch 6/20\n",
      "469/469 [==============================] - 20s 43ms/step - loss: 0.0250 - accuracy: 0.9924 - val_loss: 0.0299 - val_accuracy: 0.9904\n",
      "Epoch 7/20\n",
      "469/469 [==============================] - 20s 43ms/step - loss: 0.0188 - accuracy: 0.9942 - val_loss: 0.0293 - val_accuracy: 0.9907\n",
      "Epoch 8/20\n",
      "469/469 [==============================] - 20s 43ms/step - loss: 0.0158 - accuracy: 0.9947 - val_loss: 0.0357 - val_accuracy: 0.9890\n",
      "Epoch 9/20\n",
      "469/469 [==============================] - 20s 43ms/step - loss: 0.0131 - accuracy: 0.9959 - val_loss: 0.0321 - val_accuracy: 0.9895\n",
      "Epoch 10/20\n",
      "469/469 [==============================] - 21s 44ms/step - loss: 0.0121 - accuracy: 0.9961 - val_loss: 0.0281 - val_accuracy: 0.9912\n",
      "Epoch 11/20\n",
      "469/469 [==============================] - 20s 43ms/step - loss: 0.0094 - accuracy: 0.9970 - val_loss: 0.0279 - val_accuracy: 0.9910\n",
      "Epoch 12/20\n",
      "469/469 [==============================] - 20s 43ms/step - loss: 0.0092 - accuracy: 0.9969 - val_loss: 0.0374 - val_accuracy: 0.9897\n",
      "Epoch 13/20\n",
      "469/469 [==============================] - 20s 43ms/step - loss: 0.0082 - accuracy: 0.9971 - val_loss: 0.0384 - val_accuracy: 0.9896\n",
      "Epoch 14/20\n",
      "469/469 [==============================] - 20s 43ms/step - loss: 0.0069 - accuracy: 0.9977 - val_loss: 0.0369 - val_accuracy: 0.9898\n",
      "Epoch 15/20\n",
      "469/469 [==============================] - 20s 43ms/step - loss: 0.0051 - accuracy: 0.9980 - val_loss: 0.0384 - val_accuracy: 0.9909\n",
      "Epoch 16/20\n",
      "469/469 [==============================] - 20s 43ms/step - loss: 0.0073 - accuracy: 0.9976 - val_loss: 0.0404 - val_accuracy: 0.9896\n",
      "Epoch 17/20\n",
      "469/469 [==============================] - 20s 43ms/step - loss: 0.0044 - accuracy: 0.9987 - val_loss: 0.0338 - val_accuracy: 0.9907\n",
      "Epoch 18/20\n",
      "469/469 [==============================] - 20s 43ms/step - loss: 0.0041 - accuracy: 0.9988 - val_loss: 0.0412 - val_accuracy: 0.9893\n",
      "Epoch 19/20\n",
      "469/469 [==============================] - 20s 43ms/step - loss: 0.0044 - accuracy: 0.9986 - val_loss: 0.0422 - val_accuracy: 0.9892\n",
      "Epoch 20/20\n",
      "469/469 [==============================] - 20s 43ms/step - loss: 0.0046 - accuracy: 0.9983 - val_loss: 0.0353 - val_accuracy: 0.9912\n"
     ]
    },
    {
     "data": {
      "text/plain": [
       "<keras.callbacks.History at 0x7fda75fe1120>"
      ]
     },
     "execution_count": 4,
     "metadata": {},
     "output_type": "execute_result"
    }
   ],
   "source": [
    "# Define the model architecture\n",
    "# CNN\n",
    "initializer = tf.keras.initializers.GlorotUniform(0)\n",
    "\n",
    "model = tf.keras.Sequential([\n",
    "    tf.keras.layers.InputLayer(input_shape=(28, 28)),\n",
    "    tf.keras.layers.Reshape(target_shape=(28, 28, 1)),\n",
    "    tf.keras.layers.Conv2D(filters=32, kernel_size=(3, 3), activation='relu', kernel_initializer=initializer, bias_initializer=initializer),\n",
    "    tf.keras.layers.MaxPooling2D(pool_size=(2, 2)),\n",
    "    tf.keras.layers.Conv2D(filters=32, kernel_size=(3, 3), activation='relu', kernel_initializer=initializer, bias_initializer=initializer),\n",
    "    tf.keras.layers.MaxPooling2D(pool_size=(2, 2)),\n",
    "    tf.keras.layers.Flatten(),\n",
    "    tf.keras.layers.Dense(256, activation='relu', kernel_initializer=initializer, bias_initializer=initializer),\n",
    "    tf.keras.layers.Dense(10, kernel_initializer=initializer, bias_initializer=initializer)\n",
    "])\n",
    "\n",
    "# Train the digit classification model\n",
    "model.compile(optimizer='adam',\n",
    "              loss=tf.keras.losses.SparseCategoricalCrossentropy(\n",
    "                  from_logits=True),\n",
    "              metrics=['accuracy'])\n",
    "model.fit(\n",
    "    train_images,\n",
    "    train_labels,\n",
    "    batch_size=128,\n",
    "    epochs=20,\n",
    "    validation_data=(test_images, test_labels)\n",
    ")"
   ]
  },
  {
   "cell_type": "code",
   "execution_count": 4,
   "id": "2bf9a0d9",
   "metadata": {},
   "outputs": [
    {
     "ename": "NameError",
     "evalue": "name 'model' is not defined",
     "output_type": "error",
     "traceback": [
      "\u001b[0;31m---------------------------------------------------------------------------\u001b[0m",
      "\u001b[0;31mNameError\u001b[0m                                 Traceback (most recent call last)",
      "Cell \u001b[0;32mIn[4], line 1\u001b[0m\n\u001b[0;32m----> 1\u001b[0m \u001b[43mmodel\u001b[49m\u001b[38;5;241m.\u001b[39msummary()\n",
      "\u001b[0;31mNameError\u001b[0m: name 'model' is not defined"
     ]
    }
   ],
   "source": [
    "model.summary()"
   ]
  },
  {
   "cell_type": "code",
   "execution_count": 5,
   "id": "f760953f",
   "metadata": {},
   "outputs": [
    {
     "ename": "NameError",
     "evalue": "name 'model' is not defined",
     "output_type": "error",
     "traceback": [
      "\u001b[0;31m---------------------------------------------------------------------------\u001b[0m",
      "\u001b[0;31mNameError\u001b[0m                                 Traceback (most recent call last)",
      "Cell \u001b[0;32mIn[5], line 3\u001b[0m\n\u001b[1;32m      1\u001b[0m \u001b[38;5;66;03m# evaluate the model\u001b[39;00m\n\u001b[1;32m      2\u001b[0m \u001b[38;5;66;03m# loss, accuracy = model.evaluate(valid_images, valid_labels, verbose=0)\u001b[39;00m\n\u001b[0;32m----> 3\u001b[0m loss, accuracy \u001b[38;5;241m=\u001b[39m \u001b[43mmodel\u001b[49m\u001b[38;5;241m.\u001b[39mevaluate(test_images, test_labels, verbose\u001b[38;5;241m=\u001b[39m\u001b[38;5;241m0\u001b[39m) \n\u001b[1;32m      4\u001b[0m \u001b[38;5;28mprint\u001b[39m(\u001b[38;5;124mf\u001b[39m\u001b[38;5;124m'\u001b[39m\u001b[38;5;124mAccuracy: \u001b[39m\u001b[38;5;132;01m{\u001b[39;00maccuracy\u001b[38;5;241m*\u001b[39m\u001b[38;5;241m100\u001b[39m\u001b[38;5;132;01m}\u001b[39;00m\u001b[38;5;124m'\u001b[39m)\n",
      "\u001b[0;31mNameError\u001b[0m: name 'model' is not defined"
     ]
    }
   ],
   "source": [
    "# evaluate the model\n",
    "# loss, accuracy = model.evaluate(valid_images, valid_labels, verbose=0)\n",
    "loss, accuracy = model.evaluate(test_images, test_labels, verbose=0) \n",
    "print(f'Accuracy: {accuracy*100}')"
   ]
  },
  {
   "cell_type": "markdown",
   "id": "14a1ac22",
   "metadata": {},
   "source": [
    "# Convert to a TensorFlow Lite model\n",
    "Now you can convert the trained model to TensorFlow Lite format using the TensorFlow Lite Converter, and apply varying degrees of quantization. \n",
    "\n",
    "Beware that some versions of quantization leave some of the data in float format. So the following sections show each option with increasing amounts of quantization, until we get a model that's entirely int8 or uint8 data. (Notice we duplicate some code in each section so you can see all the quantization steps for each option.)\n",
    "\n",
    "First, here's a converted model with no quantization:"
   ]
  },
  {
   "cell_type": "code",
   "execution_count": 7,
   "id": "be15d246",
   "metadata": {},
   "outputs": [
    {
     "name": "stderr",
     "output_type": "stream",
     "text": [
      "WARNING:absl:Found untraced functions such as _jit_compiled_convolution_op, _jit_compiled_convolution_op, _update_step_xla while saving (showing 3 of 3). These functions will not be directly callable after loading.\n"
     ]
    },
    {
     "name": "stdout",
     "output_type": "stream",
     "text": [
      "INFO:tensorflow:Assets written to: /tmp/tmpjepb8p93/assets\n"
     ]
    },
    {
     "name": "stderr",
     "output_type": "stream",
     "text": [
      "INFO:tensorflow:Assets written to: /tmp/tmpjepb8p93/assets\n",
      "2023-06-06 22:52:06.399727: W tensorflow/compiler/mlir/lite/python/tf_tfl_flatbuffer_helpers.cc:362] Ignored output_format.\n",
      "2023-06-06 22:52:06.399768: W tensorflow/compiler/mlir/lite/python/tf_tfl_flatbuffer_helpers.cc:365] Ignored drop_control_dependency.\n",
      "2023-06-06 22:52:06.400546: I tensorflow/cc/saved_model/reader.cc:45] Reading SavedModel from: /tmp/tmpjepb8p93\n",
      "2023-06-06 22:52:06.402302: I tensorflow/cc/saved_model/reader.cc:89] Reading meta graph with tags { serve }\n",
      "2023-06-06 22:52:06.402321: I tensorflow/cc/saved_model/reader.cc:130] Reading SavedModel debug info (if present) from: /tmp/tmpjepb8p93\n",
      "2023-06-06 22:52:06.407971: I tensorflow/compiler/mlir/mlir_graph_optimization_pass.cc:357] MLIR V1 optimization pass is not enabled\n",
      "2023-06-06 22:52:06.409376: I tensorflow/cc/saved_model/loader.cc:229] Restoring SavedModel bundle.\n",
      "2023-06-06 22:52:06.457080: I tensorflow/cc/saved_model/loader.cc:213] Running initialization op on SavedModel bundle at path: /tmp/tmpjepb8p93\n",
      "2023-06-06 22:52:06.467293: I tensorflow/cc/saved_model/loader.cc:305] SavedModel load for tags { serve }; Status: success: OK. Took 66758 microseconds.\n",
      "2023-06-06 22:52:06.488245: I tensorflow/compiler/mlir/tensorflow/utils/dump_mlir_util.cc:268] disabling MLIR crash reproducer, set env var `MLIR_CRASH_REPRODUCER_DIRECTORY` to enable.\n"
     ]
    }
   ],
   "source": [
    "converter = tf.lite.TFLiteConverter.from_keras_model(model)\n",
    "\n",
    "tflite_model = converter.convert()"
   ]
  },
  {
   "cell_type": "code",
   "execution_count": 8,
   "id": "09ab9ffe",
   "metadata": {},
   "outputs": [
    {
     "name": "stdout",
     "output_type": "stream",
     "text": [
      "input:  <class 'numpy.float32'>\n",
      "output:  <class 'numpy.float32'>\n"
     ]
    }
   ],
   "source": [
    "interpreter = tf.lite.Interpreter(model_content=tflite_model)\n",
    "input_type = interpreter.get_input_details()[0]['dtype']\n",
    "print('input: ', input_type)\n",
    "output_type = interpreter.get_output_details()[0]['dtype']\n",
    "print('output: ', output_type)"
   ]
  },
  {
   "cell_type": "markdown",
   "id": "1a90adb9",
   "metadata": {},
   "source": [
    "## Convert using integer-only quantization\n",
    "To quantize the input and output tensors, and make the converter throw an error if it encounters an operation it cannot quantize, convert the model again with some additional parameters:"
   ]
  },
  {
   "cell_type": "code",
   "execution_count": 9,
   "id": "c8e0ab5f",
   "metadata": {},
   "outputs": [
    {
     "name": "stderr",
     "output_type": "stream",
     "text": [
      "WARNING:absl:Found untraced functions such as _jit_compiled_convolution_op, _jit_compiled_convolution_op, _update_step_xla while saving (showing 3 of 3). These functions will not be directly callable after loading.\n"
     ]
    },
    {
     "name": "stdout",
     "output_type": "stream",
     "text": [
      "INFO:tensorflow:Assets written to: /tmp/tmp7c3cer0w/assets\n"
     ]
    },
    {
     "name": "stderr",
     "output_type": "stream",
     "text": [
      "INFO:tensorflow:Assets written to: /tmp/tmp7c3cer0w/assets\n",
      "/home/thai/.local/lib/python3.10/site-packages/tensorflow/lite/python/convert.py:765: UserWarning: Statistics for quantized inputs were expected, but not specified; continuing anyway.\n",
      "  warnings.warn(\"Statistics for quantized inputs were expected, but not \"\n",
      "2023-06-06 22:52:07.711926: W tensorflow/compiler/mlir/lite/python/tf_tfl_flatbuffer_helpers.cc:362] Ignored output_format.\n",
      "2023-06-06 22:52:07.711956: W tensorflow/compiler/mlir/lite/python/tf_tfl_flatbuffer_helpers.cc:365] Ignored drop_control_dependency.\n",
      "2023-06-06 22:52:07.712109: I tensorflow/cc/saved_model/reader.cc:45] Reading SavedModel from: /tmp/tmp7c3cer0w\n",
      "2023-06-06 22:52:07.714057: I tensorflow/cc/saved_model/reader.cc:89] Reading meta graph with tags { serve }\n",
      "2023-06-06 22:52:07.714105: I tensorflow/cc/saved_model/reader.cc:130] Reading SavedModel debug info (if present) from: /tmp/tmp7c3cer0w\n",
      "2023-06-06 22:52:07.721312: I tensorflow/cc/saved_model/loader.cc:229] Restoring SavedModel bundle.\n",
      "2023-06-06 22:52:07.768363: I tensorflow/cc/saved_model/loader.cc:213] Running initialization op on SavedModel bundle at path: /tmp/tmp7c3cer0w\n",
      "2023-06-06 22:52:07.778376: I tensorflow/cc/saved_model/loader.cc:305] SavedModel load for tags { serve }; Status: success: OK. Took 66268 microseconds.\n",
      "fully_quantize: 0, inference_type: 6, input_inference_type: UINT8, output_inference_type: UINT8\n"
     ]
    }
   ],
   "source": [
    "def representative_data_gen():\n",
    "  for input_value in tf.data.Dataset.from_tensor_slices(train_images).batch(1).take(100):\n",
    "    yield [input_value]\n",
    "\n",
    "converter = tf.lite.TFLiteConverter.from_keras_model(model)\n",
    "converter.optimizations = [tf.lite.Optimize.DEFAULT]\n",
    "converter.representative_dataset = representative_data_gen\n",
    "# Ensure that if any ops can't be quantized, the converter throws an error\n",
    "converter.target_spec.supported_ops = [tf.lite.OpsSet.TFLITE_BUILTINS_INT8]\n",
    "# Set the input and output tensors to uint8 (APIs added in r2.3)\n",
    "converter.inference_input_type = tf.uint8\n",
    "converter.inference_output_type = tf.uint8\n",
    "\n",
    "tflite_model_quant_it = converter.convert()"
   ]
  },
  {
   "cell_type": "code",
   "execution_count": 10,
   "id": "172dfda0",
   "metadata": {},
   "outputs": [
    {
     "name": "stdout",
     "output_type": "stream",
     "text": [
      "input:  <class 'numpy.uint8'>\n",
      "output:  <class 'numpy.uint8'>\n"
     ]
    }
   ],
   "source": [
    "interpreter = tf.lite.Interpreter(model_content=tflite_model_quant_it)\n",
    "input_type = interpreter.get_input_details()[0]['dtype']\n",
    "print('input: ', input_type)\n",
    "output_type = interpreter.get_output_details()[0]['dtype']\n",
    "print('output: ', output_type)"
   ]
  },
  {
   "cell_type": "markdown",
   "id": "95666248",
   "metadata": {},
   "source": [
    "## Save the models as files\n",
    "You'll need a **.tflite** file to deploy your model on other devices. So let's save the converted models to files and then load them when we run inferences below."
   ]
  },
  {
   "cell_type": "code",
   "execution_count": 4,
   "id": "ed0468cc",
   "metadata": {},
   "outputs": [],
   "source": [
    "tflite_models_dir = pathlib.Path(\"./cnn_mnist_tflite_models/\")\n",
    "tflite_models_dir.mkdir(exist_ok=True, parents=True)\n",
    "\n",
    "# Save the unquantized/float model:\n",
    "tflite_model_file = tflite_models_dir/\"cnn_mnist_model.tflite\"\n",
    "\n",
    "# Save the integer-only quantized model:\n",
    "tflite_model_quant_it_file = tflite_models_dir/\"cnn_mnist_quantization.tflite\""
   ]
  },
  {
   "cell_type": "code",
   "execution_count": 10,
   "id": "9b1e97c2",
   "metadata": {},
   "outputs": [
    {
     "ename": "NameError",
     "evalue": "name 'tflite_model' is not defined",
     "output_type": "error",
     "traceback": [
      "\u001b[0;31m---------------------------------------------------------------------------\u001b[0m",
      "\u001b[0;31mNameError\u001b[0m                                 Traceback (most recent call last)",
      "Cell \u001b[0;32mIn[10], line 2\u001b[0m\n\u001b[1;32m      1\u001b[0m \u001b[38;5;66;03m# Save the unquantized/float model:\u001b[39;00m\n\u001b[0;32m----> 2\u001b[0m tflite_model_file\u001b[38;5;241m.\u001b[39mwrite_bytes(\u001b[43mtflite_model\u001b[49m)\n\u001b[1;32m      4\u001b[0m \u001b[38;5;66;03m# Save the integer-only quantized model:\u001b[39;00m\n\u001b[1;32m      5\u001b[0m tflite_model_quant_it_file\u001b[38;5;241m.\u001b[39mwrite_bytes(tflite_model_quant_it)\n",
      "\u001b[0;31mNameError\u001b[0m: name 'tflite_model' is not defined"
     ]
    }
   ],
   "source": [
    "# Save the unquantized/float model:\n",
    "tflite_model_file.write_bytes(tflite_model)\n",
    "\n",
    "# Save the integer-only quantized model:\n",
    "tflite_model_quant_it_file.write_bytes(tflite_model_quant_it)"
   ]
  },
  {
   "cell_type": "markdown",
   "id": "9cb17d50",
   "metadata": {},
   "source": [
    "# Run the TensorFlow Lite models\n",
    "Now we'll run inferences using the TensorFlow Lite Interpreter to compare the model accuracies. \n",
    "\n",
    "First, we need a function that runs inference with a given model and images, and then returns the predictions:"
   ]
  },
  {
   "cell_type": "code",
   "execution_count": 5,
   "id": "636acb9f",
   "metadata": {},
   "outputs": [],
   "source": [
    "# Helper function to run inference on a TFLite model\n",
    "def run_tflite_model(tflite_file, test_image_indices):\n",
    "  global test_images\n",
    "\n",
    "  # Initialize the interpreter\n",
    "  interpreter = tf.lite.Interpreter(model_path=str(tflite_file))\n",
    "  interpreter.allocate_tensors()\n",
    "\n",
    "  input_details = interpreter.get_input_details()[0]\n",
    "  output_details = interpreter.get_output_details()[0]\n",
    "\n",
    "  predictions = np.zeros((len(test_image_indices),), dtype=int)\n",
    "  for i, test_image_index in enumerate(test_image_indices):\n",
    "    test_image = test_images[test_image_index]\n",
    "    test_label = test_labels[test_image_index]\n",
    "\n",
    "    # Check if the input type is quantized, then rescale input data to uint8\n",
    "    if input_details['dtype'] == np.uint8:\n",
    "      input_scale, input_zero_point = input_details[\"quantization\"]\n",
    "      test_image = test_image / input_scale + input_zero_point\n",
    "\n",
    "    test_image = np.expand_dims(test_image, axis=0).astype(input_details[\"dtype\"])\n",
    "    \n",
    "    interpreter.set_tensor(input_details[\"index\"], test_image)\n",
    "    interpreter.invoke()\n",
    "    output = interpreter.get_tensor(output_details[\"index\"])[0]\n",
    "\n",
    "    predictions[i] = output.argmax()\n",
    "\n",
    "  return predictions"
   ]
  },
  {
   "cell_type": "markdown",
   "id": "b36df4bd",
   "metadata": {},
   "source": [
    "### Test the models on one image\n",
    "Now we'll compare the performance of the float model and quantized model.\n",
    "\n",
    "Let's create another function to print our predictions:"
   ]
  },
  {
   "cell_type": "code",
   "execution_count": 6,
   "id": "e237aa35",
   "metadata": {},
   "outputs": [],
   "source": [
    "# Change this to test a different image\n",
    "test_image_index = 0\n",
    "\n",
    "## Helper function to test the models on one image\n",
    "def test_model(tflite_file, test_image_index, model_type):\n",
    "    global test_labels\n",
    "\n",
    "    predictions = run_tflite_model(tflite_file, [test_image_index])\n",
    "\n",
    "    plt.imshow(test_images[test_image_index])\n",
    "    template = model_type + \" Model \\n True:{true}, Predicted:{predict}\"\n",
    "    _ = plt.title(template.format(true= str(test_labels[test_image_index]), predict=str(predictions[0])))\n",
    "    plt.grid(False)"
   ]
  },
  {
   "cell_type": "markdown",
   "id": "2d283e93",
   "metadata": {},
   "source": [
    "Now test the float model:"
   ]
  },
  {
   "cell_type": "code",
   "execution_count": 7,
   "id": "8f1f7349",
   "metadata": {},
   "outputs": [
    {
     "name": "stderr",
     "output_type": "stream",
     "text": [
      "INFO: Created TensorFlow Lite XNNPACK delegate for CPU.\n"
     ]
    },
    {
     "data": {
      "image/png": "[encoded data removed]",
      "text/plain": [
       "<Figure size 640x480 with 1 Axes>"
      ]
     },
     "metadata": {},
     "output_type": "display_data"
    }
   ],
   "source": [
    "test_model(tflite_model_file, test_image_index, model_type=\"Float\")"
   ]
  },
  {
   "cell_type": "markdown",
   "id": "9e385785",
   "metadata": {},
   "source": [
    "And test the integer-only quantized model"
   ]
  },
  {
   "cell_type": "code",
   "execution_count": 8,
   "id": "c7b43d01",
   "metadata": {},
   "outputs": [
    {
     "data": {
      "image/png": "[encoded data removed]",
      "text/plain": [
       "<Figure size 640x480 with 1 Axes>"
      ]
     },
     "metadata": {},
     "output_type": "display_data"
    }
   ],
   "source": [
    "test_model(tflite_model_quant_it_file, test_image_index, model_type=\"Integer-Only \")"
   ]
  },
  {
   "cell_type": "markdown",
   "id": "0ea75ac6",
   "metadata": {},
   "source": [
    "### Evaluate the models on all images\n",
    "Now let's run both models using all the test images we loaded at the beginning of this tutorial:"
   ]
  },
  {
   "cell_type": "code",
   "execution_count": 9,
   "id": "1cde7e00",
   "metadata": {},
   "outputs": [],
   "source": [
    "# Helper function to evaluate a TFLite model on all images\n",
    "def evaluate_model(tflite_file, model_type):\n",
    "  global test_images\n",
    "  global test_labels\n",
    "\n",
    "  test_image_indices = range(test_images.shape[0])\n",
    "  predictions = run_tflite_model(tflite_file, test_image_indices)\n",
    "  print(predictions)\n",
    "\n",
    "  accuracy = (np.sum(test_labels == predictions) * 100) / len(test_images)\n",
    "#   for idx in range(len(test_labels)):\n",
    "#         if (predictions[idx] != test_labels[idx]):\n",
    "#             print('Hihi')\n",
    "\n",
    "  print('%s model accuracy is %.4f%% (Number of test samples=%d)' % (\n",
    "      model_type, accuracy, len(test_images)))"
   ]
  },
  {
   "cell_type": "markdown",
   "id": "208d2ea4",
   "metadata": {},
   "source": [
    "Evaluate the float model:"
   ]
  },
  {
   "cell_type": "code",
   "execution_count": 10,
   "id": "7c86d7d3",
   "metadata": {},
   "outputs": [
    {
     "name": "stdout",
     "output_type": "stream",
     "text": [
      "Float model accuracy is 99.1200% (Number of test samples=10000)\n"
     ]
    }
   ],
   "source": [
    "evaluate_model(tflite_model_file, model_type=\"Float\")"
   ]
  },
  {
   "cell_type": "markdown",
   "id": "9fe293d9",
   "metadata": {},
   "source": [
    "Evaluate the integer-only quantized model:"
   ]
  },
  {
   "cell_type": "code",
   "execution_count": 11,
   "id": "513f518f",
   "metadata": {},
   "outputs": [
    {
     "name": "stdout",
     "output_type": "stream",
     "text": [
      "Integer-Only model accuracy is 99.1000% (Number of test samples=10000)\n"
     ]
    }
   ],
   "source": [
    "evaluate_model(tflite_model_quant_it_file, model_type=\"Integer-Only\")"
   ]
  },
  {
   "cell_type": "code",
   "execution_count": null,
   "id": "8d337438",
   "metadata": {},
   "outputs": [],
   "source": []
  }
 ],
 "metadata": {
  "kernelspec": {
   "display_name": "Python 3 (ipykernel)",
   "language": "python",
   "name": "python3"
  },
  "language_info": {
   "codemirror_mode": {
    "name": "ipython",
    "version": 3
   },
   "file_extension": ".py",
   "mimetype": "text/x-python",
   "name": "python",
   "nbconvert_exporter": "python",
   "pygments_lexer": "ipython3",
   "version": "3.10.6"
  }
 },
 "nbformat": 4,
 "nbformat_minor": 5
}
