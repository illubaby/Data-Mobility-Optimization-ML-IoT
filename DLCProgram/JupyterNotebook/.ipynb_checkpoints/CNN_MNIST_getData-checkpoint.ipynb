{
 "cells": [
  {
   "cell_type": "markdown",
   "id": "5b59441a",
   "metadata": {},
   "source": [
    "# SETUP PART"
   ]
  },
  {
   "cell_type": "code",
   "execution_count": 1,
   "id": "58fd9c96",
   "metadata": {},
   "outputs": [],
   "source": [
    "import logging\n",
    "logging.getLogger(\"tensorflow\").setLevel(logging.DEBUG)\n",
    "\n",
    "import tensorflow as tf\n",
    "import numpy as np\n",
    "print(\"TensorFlow version: \", tf.__version__)"
   ]
  },
  {
   "cell_type": "markdown",
   "id": "ef3f977a",
   "metadata": {},
   "source": [
    "# GET MODEL INPUT AND LABELS"
   ]
  },
  {
   "cell_type": "code",
   "execution_count": 2,
   "id": "dfcf1e24",
   "metadata": {},
   "outputs": [],
   "source": [
    "# Load MNIST dataset\n",
    "mnist = tf.keras.datasets.mnist\n",
    "(train_images, train_labels), (test_images, test_labels) = mnist.load_data()\n",
    "\n",
    "# Normalize the input image so that each pixel value is between 0 to 1.\n",
    "train_images = train_images.astype(np.float32) / 255.0\n",
    "test_images = test_images.astype(np.float32) / 255.0"
   ]
  },
  {
   "cell_type": "markdown",
   "id": "f9fecdb9",
   "metadata": {},
   "source": [
    "### Input Data Quantization"
   ]
  },
  {
   "cell_type": "code",
   "execution_count": 3,
   "id": "fcf34a05",
   "metadata": {},
   "outputs": [],
   "source": [
    "INPUT_S = 0.003921568859368563\n",
    "INPUT_Z = 128\n",
    "\n",
    "NUMBER_OF_TEST = 100"
   ]
  },
  {
   "cell_type": "markdown",
   "id": "6e2f318d",
   "metadata": {},
   "source": [
    "Make C array for input data"
   ]
  },
  {
   "cell_type": "code",
   "execution_count": 4,
   "id": "c827ae13",
   "metadata": {},
   "outputs": [],
   "source": [
    "INPUT_SIZE_STR  = \"const int model_input_dims[] = {\"\\\n",
    "                + str(test_images[0].shape[0]) + \", \"\\\n",
    "                + str(test_images[0].shape[1]) + \", \"\\\n",
    "                +  \"1};\\n\\n\"\n",
    "\n",
    "NUMBER_OF_TEST_STR = \"const int number_of_test = \" + str(NUMBER_OF_TEST) + \";\\n\"\n",
    "\n",
    "TEST_IMAGE_ARR  = \"const int8_t test_images[][\"\\\n",
    "                + str(test_images[0].shape[0]) + \" * \"\\\n",
    "                + str(test_images[0].shape[1]) + \" * \"\\\n",
    "                + \"1] = {\\n\"\n",
    "\n",
    "for idx in range(NUMBER_OF_TEST):\n",
    "    TEST_IMAGE_ARR += \"\\t{\\n\"\n",
    "    for line in test_images[idx]:\n",
    "        TEST_IMAGE_ARR += '\\t\\t'\n",
    "        for ele in line:\n",
    "            ele_quant = int((ele/INPUT_S) - 128)\n",
    "            TEST_IMAGE_ARR += str(ele_quant) + ', '\n",
    "        TEST_IMAGE_ARR += '\\n'\n",
    "    TEST_IMAGE_ARR += \"\\t},\\n\"\n",
    "\n",
    "TEST_IMAGE_ARR = TEST_IMAGE_ARR[:-2] + \"\\n};\"\n",
    "\n",
    "TEST_LABEL_ARR = \"const int8_t test_labels[] = {\\n\\t\"\n",
    "for idx in range(NUMBER_OF_TEST):\n",
    "    TEST_LABEL_ARR += str(test_labels[idx]) + ', '\n",
    "    \n",
    "TEST_LABEL_ARR = TEST_LABEL_ARR[:-2] + \"\\n};\\n\"\n",
    "\n",
    "with open(\"out_log/model_input.log\", \"w\") as log:\n",
    "    log.write(\"#include \\\"mnist_input_data.h\\\"\\n\\n\")\n",
    "    log.write(INPUT_SIZE_STR)\n",
    "    log.write(NUMBER_OF_TEST_STR)\n",
    "    log.write(TEST_LABEL_ARR)\n",
    "    log.write(TEST_IMAGE_ARR)"
   ]
  },
  {
   "cell_type": "markdown",
   "id": "acc6ade5",
   "metadata": {},
   "source": [
    "### Custom for int32_t* data"
   ]
  },
  {
   "cell_type": "code",
   "execution_count": 5,
   "id": "5c3841d0",
   "metadata": {},
   "outputs": [],
   "source": [
    "NUMBER_OF_TEST_STR = \"const int number_of_test = \" + str(NUMBER_OF_TEST) + \";\\n\"\n",
    "\n",
    "TEST_IMAGE_ARR  = \"const int8_t test_images[][\"\\\n",
    "                + str(test_images[0].shape[0]) + \" * \"\\\n",
    "                + str(test_images[0].shape[1]) + \" * \"\\\n",
    "                + \"1] = {\\n\"\n",
    "\n",
    "for idx in range(NUMBER_OF_TEST):\n",
    "    TEST_IMAGE_ARR += \"\\t{\\n\"\n",
    "    for line in test_images[idx]:\n",
    "        TEST_IMAGE_ARR += '\\t\\t'\n",
    "        for ele in line:\n",
    "            ele_quant = int((ele/INPUT_S) - 128)\n",
    "            TEST_IMAGE_ARR += str(ele_quant) + ', '\n",
    "        TEST_IMAGE_ARR += '\\n'\n",
    "    TEST_IMAGE_ARR += \"\\t},\\n\"\n",
    "\n",
    "TEST_IMAGE_ARR = TEST_IMAGE_ARR[:-2] + \"\\n};\"\n",
    "\n",
    "TEST_LABEL_ARR = \"const int8_t test_labels[] = {\\n\\t\"\n",
    "for idx in range(NUMBER_OF_TEST):\n",
    "    TEST_LABEL_ARR += str(test_labels[idx]) + ', '\n",
    "    \n",
    "TEST_LABEL_ARR = TEST_LABEL_ARR[:-2] + \"\\n};\\n\"\n",
    "\n",
    "with open(\"out_log/test_model_input.log\", \"w\") as log:\n",
    "    log.write(\"#include \\\"mnist_data.h\\\"\\n\\n\")\n",
    "    log.write(NUMBER_OF_TEST_STR)\n",
    "    log.write(TEST_IMAGE_ARR)"
   ]
  },
  {
   "cell_type": "markdown",
   "id": "1c655c1b",
   "metadata": {},
   "source": [
    "# GET MODEL PARAMETERS"
   ]
  },
  {
   "cell_type": "code",
   "execution_count": 6,
   "id": "12b01a55",
   "metadata": {},
   "outputs": [],
   "source": [
    "MODEL_PARAM_DIR = \"./customized_LeNet5_model_parameters/\""
   ]
  },
  {
   "cell_type": "markdown",
   "id": "be92e22e",
   "metadata": {},
   "source": [
    "## First CONV Layer"
   ]
  },
  {
   "cell_type": "markdown",
   "id": "f86bff01",
   "metadata": {},
   "source": [
    "Kernel C Array"
   ]
  },
  {
   "cell_type": "code",
   "execution_count": 7,
   "id": "47c6380b",
   "metadata": {},
   "outputs": [],
   "source": [
    "lenet_conv0_kernel = np.load(MODEL_PARAM_DIR + \"lenet_conv0_kernel_tensor.npy\")\n",
    "\n",
    "LENET_CONV0_KERNEL_size_str = \"const int lenet_conv0_kernel_dims = {\" + \\\n",
    "                            str(lenet_conv0_kernel.shape[1]) + \", \" + \\\n",
    "                            str(lenet_conv0_kernel.shape[2]) + \", \" + \\\n",
    "                            str(lenet_conv0_kernel.shape[3]) + \", \" + \\\n",
    "                            str(lenet_conv0_kernel.shape[0]) + \"};\\n\\n\" \n",
    "\n",
    "LENET_CONV0_KERNEL_arr_str = \"const int8_t lenet_conv0_kernel_data[] = {\\n\"\n",
    "\n",
    "for nok_i in range(lenet_conv0_kernel.shape[0]):\n",
    "    for c_i in range(lenet_conv0_kernel.shape[3]):\n",
    "        LENET_CONV0_KERNEL_arr_str += '\\t'\n",
    "        for h_i in range(lenet_conv0_kernel.shape[2]):\n",
    "            for w_i in range(lenet_conv0_kernel.shape[1]):\n",
    "                LENET_CONV0_KERNEL_arr_str += str(lenet_conv0_kernel[nok_i][h_i][w_i][c_i]) + ', '\n",
    "        LENET_CONV0_KERNEL_arr_str += '\\n'\n",
    "\n",
    "LENET_CONV0_KERNEL_arr_str = LENET_CONV0_KERNEL_arr_str[:-3] + \"\\n};\""
   ]
  },
  {
   "cell_type": "code",
   "execution_count": 8,
   "id": "4a697c58",
   "metadata": {},
   "outputs": [],
   "source": [
    "with open(\"out_log/lenet_conv0_kernel.log\", \"w\") as log:\n",
    "    log.write(LENET_CONV0_KERNEL_size_str)\n",
    "    log.write(LENET_CONV0_KERNEL_arr_str)"
   ]
  },
  {
   "cell_type": "markdown",
   "id": "3b50ede1",
   "metadata": {},
   "source": [
    "Bias C Array"
   ]
  },
  {
   "cell_type": "code",
   "execution_count": 9,
   "id": "68cbbeaf",
   "metadata": {},
   "outputs": [],
   "source": [
    "lenet_conv0_bias = np.load(MODEL_PARAM_DIR + \"lenet_conv0_bias_tensor.npy\")\n",
    "\n",
    "LENET_CONV0_BIAS_size_str = \"const int lenet_conv0_bias_dims[] = {\" + str(lenet_conv0_bias.shape[0]) +\"};\\n\\n\"\n",
    "\n",
    "LENET_CONV0_BIAS_arr_str = \"const int32_t lenet_conv0_bias_data[] = {\\n\"\n",
    "\n",
    "LENET_CONV0_BIAS_arr_str += '\\t'\n",
    "for nok_i in range(lenet_conv0_bias.shape[0]):\n",
    "    LENET_CONV0_BIAS_arr_str += str(lenet_conv0_bias[nok_i]) + ', '\n",
    "    \n",
    "LENET_CONV0_BIAS_arr_str = LENET_CONV0_BIAS_arr_str[:-2] + \"\\n};\""
   ]
  },
  {
   "cell_type": "code",
   "execution_count": 10,
   "id": "fbfe95f6",
   "metadata": {},
   "outputs": [],
   "source": [
    "with open(\"out_log/lenet_conv0_bias.log\", \"w\") as log:\n",
    "    log.write(LENET_CONV0_BIAS_size_str)\n",
    "    log.write(LENET_CONV0_BIAS_arr_str)"
   ]
  },
  {
   "cell_type": "markdown",
   "id": "4d8c10b5",
   "metadata": {},
   "source": [
    "## First CONV Layer"
   ]
  },
  {
   "cell_type": "markdown",
   "id": "699509c8",
   "metadata": {},
   "source": [
    "Kernel C Array"
   ]
  },
  {
   "cell_type": "code",
   "execution_count": 11,
   "id": "466068c1",
   "metadata": {},
   "outputs": [],
   "source": [
    "lenet_conv1_kernel = np.load(MODEL_PARAM_DIR + \"lenet_conv1_kernel_tensor.npy\")\n",
    "\n",
    "LENET_CONV1_KERNEL_size_str = \"const int lenet_conv1_kernel_dims = {\" + \\\n",
    "                            str(lenet_conv1_kernel.shape[1]) + \", \" + \\\n",
    "                            str(lenet_conv1_kernel.shape[2]) + \", \" + \\\n",
    "                            str(lenet_conv1_kernel.shape[3]) + \", \" + \\\n",
    "                            str(lenet_conv1_kernel.shape[0]) + \"};\\n\\n\" \n",
    "\n",
    "LENET_CONV1_KERNEL_arr_str = \"const int8_t lenet_conv1_kernel_data[] = {\\n\"\n",
    "\n",
    "for nok_i in range(lenet_conv1_kernel.shape[0]):\n",
    "    for c_i in range(lenet_conv1_kernel.shape[3]):\n",
    "        LENET_CONV1_KERNEL_arr_str += '\\t'\n",
    "        for h_i in range(lenet_conv1_kernel.shape[2]):\n",
    "            for w_i in range(lenet_conv1_kernel.shape[1]):\n",
    "                LENET_CONV1_KERNEL_arr_str += str(lenet_conv1_kernel[nok_i][h_i][w_i][c_i]) + ', '\n",
    "        LENET_CONV1_KERNEL_arr_str += '\\n'\n",
    "\n",
    "LENET_CONV1_KERNEL_arr_str = LENET_CONV1_KERNEL_arr_str[:-3] + \"\\n};\""
   ]
  },
  {
   "cell_type": "code",
   "execution_count": 12,
   "id": "5fca7abe",
   "metadata": {},
   "outputs": [],
   "source": [
    "with open(\"out_log/lenet_conv1_kernel.log\", \"w\") as log:\n",
    "    log.write(LENET_CONV1_KERNEL_size_str)\n",
    "    log.write(LENET_CONV1_KERNEL_arr_str)"
   ]
  },
  {
   "cell_type": "markdown",
   "id": "f066f56d",
   "metadata": {},
   "source": [
    "Bias C Array"
   ]
  },
  {
   "cell_type": "code",
   "execution_count": 13,
   "id": "17464208",
   "metadata": {},
   "outputs": [],
   "source": [
    "lenet_conv1_bias = np.load(MODEL_PARAM_DIR + \"lenet_conv1_bias_tensor.npy\")\n",
    "\n",
    "LENET_CONV1_BIAS_size_str = \"const int lenet_conv1_bias_dims[] = {\" + str(lenet_conv1_bias.shape[0]) +\"};\\n\\n\"\n",
    "\n",
    "LENET_CONV1_BIAS_arr_str = \"const int32_t lenet_conv1_bias_data[] = {\\n\"\n",
    "\n",
    "LENET_CONV1_BIAS_arr_str += '\\t'\n",
    "for nok_i in range(lenet_conv1_bias.shape[0]):\n",
    "    LENET_CONV1_BIAS_arr_str += str(lenet_conv1_bias[nok_i]) + ', '\n",
    "    \n",
    "LENET_CONV1_BIAS_arr_str = LENET_CONV1_BIAS_arr_str[:-2] + \"\\n};\""
   ]
  },
  {
   "cell_type": "code",
   "execution_count": 14,
   "id": "3e24b312",
   "metadata": {},
   "outputs": [],
   "source": [
    "with open(\"out_log/lenet_conv1_bias.log\", \"w\") as log:\n",
    "    log.write(LENET_CONV1_BIAS_size_str)\n",
    "    log.write(LENET_CONV1_BIAS_arr_str)"
   ]
  },
  {
   "cell_type": "markdown",
   "id": "c430f1b2",
   "metadata": {},
   "source": [
    "## First DENSE Layer"
   ]
  },
  {
   "cell_type": "markdown",
   "id": "3c7cf715",
   "metadata": {},
   "source": [
    "Weight C Array (contain reshape)"
   ]
  },
  {
   "cell_type": "code",
   "execution_count": 15,
   "id": "36195c7d",
   "metadata": {},
   "outputs": [],
   "source": [
    "#     for conv_c_i in range(12):\n",
    "#         for conv_h_i in range(13):\n",
    "#             for conv_w_i in range(13):\n",
    "#                 LENET_DENSE0_WEIGHT_arr_str += str(lenet_dense0_weight[dense_h_i][156*conv_h_i + 12*conv_w_i + conv_c_i]) + ', '\n"
   ]
  },
  {
   "cell_type": "code",
   "execution_count": 16,
   "id": "df817771",
   "metadata": {},
   "outputs": [],
   "source": [
    "lenet_conv1_shape = [5, 5, 16]\n",
    "\n",
    "lenet_dense0_weight = np.load(MODEL_PARAM_DIR + \"lenet_dense0_weight_tensor.npy\")\n",
    "\n",
    "LENET_DENSE0_WEIGHT_size_str = \"const int lenet_dense0_weight_dims[] = {\" + \\\n",
    "                            str(lenet_dense0_weight.shape[0]) + \", \" + \\\n",
    "                            str(lenet_dense0_weight.shape[1]) + \"};\\n\\n\"\n",
    "\n",
    "LENET_DENSE0_WEIGHT_arr_str = \"const int8_t lenet_dense0_weight_data[] = {\\n\"\n",
    "\n",
    "for dense_h_i in range(lenet_dense0_weight.shape[0]):\n",
    "    LENET_DENSE0_WEIGHT_arr_str += '\\t'\n",
    "    for conv_c_i in range(lenet_conv1_shape[2]):\n",
    "        for conv_h_i in range(lenet_conv1_shape[1]):\n",
    "            for conv_w_i in range(lenet_conv1_shape[0]):\n",
    "                LENET_DENSE0_WEIGHT_arr_str += str(lenet_dense0_weight[dense_h_i][\\\n",
    "                    lenet_conv1_shape[2]*lenet_conv1_shape[1]*conv_h_i + \\\n",
    "                    lenet_conv1_shape[2]*conv_w_i + conv_c_i]) + ', '\n",
    "    LENET_DENSE0_WEIGHT_arr_str += '\\n'\n",
    "\n",
    "LENET_DENSE0_WEIGHT_arr_str = LENET_DENSE0_WEIGHT_arr_str[:-3] + \"\\n};\""
   ]
  },
  {
   "cell_type": "code",
   "execution_count": 17,
   "id": "2a8d37f9",
   "metadata": {},
   "outputs": [],
   "source": [
    "with open(\"out_log/lenet_dense0_weight.log\", \"w\") as log:\n",
    "    log.write(LENET_DENSE0_WEIGHT_size_str)\n",
    "    log.write(LENET_DENSE0_WEIGHT_arr_str)"
   ]
  },
  {
   "cell_type": "markdown",
   "id": "64368bab",
   "metadata": {},
   "source": [
    "Bias C Array"
   ]
  },
  {
   "cell_type": "code",
   "execution_count": 18,
   "id": "0ddf1196",
   "metadata": {},
   "outputs": [],
   "source": [
    "lenet_dense0_bias = np.load(MODEL_PARAM_DIR + \"lenet_dense0_bias_tensor.npy\")\n",
    "\n",
    "LENET_DENSE0_BIAS_size_str = \"const int lenet_dense0_bias_dims[] = {\" + str(lenet_dense0_bias.shape[0]) + \"};\\n\\n\"\n",
    "\n",
    "LENET_DENSE0_BIAS_arr_str = \"const int32_t lenet_dense0_bias_data[] = {\\n\"\n",
    "\n",
    "LENET_DENSE0_BIAS_arr_str += '\\t'\n",
    "for nok_i in range(10):\n",
    "    LENET_DENSE0_BIAS_arr_str += str(lenet_dense0_bias[nok_i]) + ', '\n",
    "    \n",
    "LENET_DENSE0_BIAS_arr_str = LENET_DENSE0_BIAS_arr_str[:-2] + \"\\n};\""
   ]
  },
  {
   "cell_type": "code",
   "execution_count": 19,
   "id": "66ce8ab9",
   "metadata": {},
   "outputs": [],
   "source": [
    "with open(\"out_log/lenet_dense0_bias.log\", \"w\") as log:\n",
    "    log.write(LENET_DENSE0_BIAS_size_str)\n",
    "    log.write(LENET_DENSE0_BIAS_arr_str)"
   ]
  },
  {
   "cell_type": "markdown",
   "id": "04c293b4",
   "metadata": {},
   "source": [
    "## Second DENSE Layer"
   ]
  },
  {
   "cell_type": "markdown",
   "id": "4d43b349",
   "metadata": {},
   "source": [
    "Weight C Array"
   ]
  },
  {
   "cell_type": "code",
   "execution_count": 20,
   "id": "58d566d6",
   "metadata": {},
   "outputs": [],
   "source": [
    "lenet_dense1_weight = np.load(MODEL_PARAM_DIR + \"lenet_dense1_weight_tensor.npy\")\n",
    "\n",
    "LENET_DENSE1_WEIGHT_size_str = \"const int lenet_dense1_weight_dims[] = {\" + \\\n",
    "                            str(lenet_dense1_weight.shape[0]) + \", \" + \\\n",
    "                            str(lenet_dense1_weight.shape[1]) + \"};\\n\\n\"\n",
    "\n",
    "LENET_DENSE1_WEIGHT_arr_str = \"const int8_t lenet_dense1_weight_data[] = {\\n\"\n",
    "\n",
    "for dense_h_i in range(lenet_dense1_weight.shape[0]):\n",
    "    LENET_DENSE1_WEIGHT_arr_str += '\\t'\n",
    "    for dense_w_i in range(lenet_dense1_weight.shape[1]):\n",
    "        LENET_DENSE1_WEIGHT_arr_str += str(lenet_dense1_weight[dense_h_i][dense_w_i]) + ', '\n",
    "    LENET_DENSE1_WEIGHT_arr_str += '\\n'\n",
    "\n",
    "LENET_DENSE1_WEIGHT_arr_str = LENET_DENSE1_WEIGHT_arr_str[:-3] + \"\\n};\""
   ]
  },
  {
   "cell_type": "code",
   "execution_count": 21,
   "id": "6dc29a1e",
   "metadata": {},
   "outputs": [],
   "source": [
    "with open(\"out_log/lenet_dense1_weight.log\", \"w\") as log:\n",
    "    log.write(LENET_DENSE1_WEIGHT_size_str)\n",
    "    log.write(LENET_DENSE1_WEIGHT_arr_str)"
   ]
  },
  {
   "cell_type": "markdown",
   "id": "ae713e58",
   "metadata": {},
   "source": [
    "Bias C Array"
   ]
  },
  {
   "cell_type": "code",
   "execution_count": 22,
   "id": "0d58aed7",
   "metadata": {},
   "outputs": [],
   "source": [
    "lenet_dense1_bias = np.load(MODEL_PARAM_DIR + \"lenet_dense1_bias_tensor.npy\")\n",
    "\n",
    "LENET_DENSE1_BIAS_size_str = \"const int lenet_dense1_bias_dims[] = {\" + str(lenet_dense1_bias.shape[0]) + \"};\\n\\n\"\n",
    "\n",
    "LENET_DENSE1_BIAS_arr_str = \"const int32_t lenet_dense1_bias_data[] = {\\n\"\n",
    "\n",
    "LENET_DENSE1_BIAS_arr_str += '\\t'\n",
    "for nok_i in range(10):\n",
    "    LENET_DENSE1_BIAS_arr_str += str(lenet_dense1_bias[nok_i]) + ', '\n",
    "    \n",
    "LENET_DENSE1_BIAS_arr_str = LENET_DENSE1_BIAS_arr_str[:-2] + \"\\n};\""
   ]
  },
  {
   "cell_type": "code",
   "execution_count": 23,
   "id": "3b12c3d4",
   "metadata": {},
   "outputs": [],
   "source": [
    "with open(\"out_log/lenet_dense1_bias.log\", \"w\") as log:\n",
    "    log.write(LENET_DENSE1_BIAS_size_str)\n",
    "    log.write(LENET_DENSE1_BIAS_arr_str)"
   ]
  },
  {
   "cell_type": "markdown",
   "id": "4e1a6315",
   "metadata": {},
   "source": [
    "## Third DENSE Layer"
   ]
  },
  {
   "cell_type": "markdown",
   "id": "132523fb",
   "metadata": {},
   "source": [
    "Weight C Array"
   ]
  },
  {
   "cell_type": "code",
   "execution_count": 24,
   "id": "b94b80fa",
   "metadata": {},
   "outputs": [],
   "source": [
    "lenet_dense2_weight = np.load(MODEL_PARAM_DIR + \"lenet_dense2_weight_tensor.npy\")\n",
    "\n",
    "LENET_DENSE2_WEIGHT_size_str = \"const int lenet_dense2_weight_dims[] = {\" + \\\n",
    "                            str(lenet_dense2_weight.shape[0]) + \", \" + \\\n",
    "                            str(lenet_dense2_weight.shape[1]) + \"};\\n\\n\"\n",
    "\n",
    "LENET_DENSE2_WEIGHT_arr_str = \"const int8_t lenet_dense2_weight_data[] = {\\n\"\n",
    "\n",
    "for dense_h_i in range(lenet_dense2_weight.shape[0]):\n",
    "    LENET_DENSE2_WEIGHT_arr_str += '\\t'\n",
    "    for dense_w_i in range(lenet_dense2_weight.shape[1]):\n",
    "        LENET_DENSE2_WEIGHT_arr_str += str(lenet_dense2_weight[dense_h_i][dense_w_i]) + ', '\n",
    "    LENET_DENSE2_WEIGHT_arr_str += '\\n'\n",
    "\n",
    "LENET_DENSE2_WEIGHT_arr_str = LENET_DENSE2_WEIGHT_arr_str[:-3] + \"\\n};\""
   ]
  },
  {
   "cell_type": "code",
   "execution_count": 25,
   "id": "b4b3e739",
   "metadata": {},
   "outputs": [],
   "source": [
    "with open(\"out_log/lenet_dense2_weight.log\", \"w\") as log:\n",
    "    log.write(LENET_DENSE2_WEIGHT_size_str)\n",
    "    log.write(LENET_DENSE2_WEIGHT_arr_str)"
   ]
  },
  {
   "cell_type": "markdown",
   "id": "74cfa732",
   "metadata": {},
   "source": [
    "Bias C Array\n"
   ]
  },
  {
   "cell_type": "code",
   "execution_count": 26,
   "id": "cfcfeaa9",
   "metadata": {},
   "outputs": [],
   "source": [
    "lenet_dense2_bias = np.load(MODEL_PARAM_DIR + \"lenet_dense2_bias_tensor.npy\")\n",
    "\n",
    "LENET_DENSE2_BIAS_size_str = \"const int lenet_dense2_bias_dims[] = {\" + str(lenet_dense2_bias.shape[0]) + \"};\\n\\n\"\n",
    "\n",
    "LENET_DENSE2_BIAS_arr_str = \"const int32_t lenet_dense2_bias_data[] = {\\n\"\n",
    "\n",
    "LENET_DENSE2_BIAS_arr_str += '\\t'\n",
    "for nok_i in range(10):\n",
    "    LENET_DENSE2_BIAS_arr_str += str(lenet_dense2_bias[nok_i]) + ', '\n",
    "    \n",
    "LENET_DENSE2_BIAS_arr_str = LENET_DENSE2_BIAS_arr_str[:-2] + \"\\n};\""
   ]
  },
  {
   "cell_type": "code",
   "execution_count": 27,
   "id": "eec39280",
   "metadata": {},
   "outputs": [],
   "source": [
    "with open(\"out_log/lenet_dense2_bias.log\", \"w\") as log:\n",
    "    log.write(LENET_DENSE2_BIAS_size_str)\n",
    "    log.write(LENET_DENSE2_BIAS_arr_str)"
   ]
  },
  {
   "cell_type": "code",
   "execution_count": null,
   "id": "e53e2157",
   "metadata": {},
   "outputs": [],
   "source": []
  }
 ],
 "metadata": {
  "kernelspec": {
   "display_name": "Python 3 (ipykernel)",
   "language": "python",
   "name": "python3"
  },
  "language_info": {
   "codemirror_mode": {
    "name": "ipython",
    "version": 3
   },
   "file_extension": ".py",
   "mimetype": "text/x-python",
   "name": "python",
   "nbconvert_exporter": "python",
   "pygments_lexer": "ipython3",
   "version": "3.10.6"
  }
 },
 "nbformat": 4,
 "nbformat_minor": 5
}
