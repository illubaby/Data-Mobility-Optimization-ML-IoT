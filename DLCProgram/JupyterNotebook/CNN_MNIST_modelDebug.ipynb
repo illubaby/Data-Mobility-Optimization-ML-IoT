{
 "cells": [
  {
   "cell_type": "code",
   "execution_count": 122,
   "id": "d7480a4a",
   "metadata": {},
   "outputs": [
    {
     "name": "stdout",
     "output_type": "stream",
     "text": [
      "TensorFlow version:  2.11.0\n"
     ]
    }
   ],
   "source": [
    "import logging\n",
    "logging.getLogger(\"tensorflow\").setLevel(logging.DEBUG)\n",
    "\n",
    "import tensorflow as tf\n",
    "import numpy as np\n",
    "print(\"TensorFlow version: \", tf.__version__)"
   ]
  },
  {
   "cell_type": "code",
   "execution_count": 123,
   "id": "d3402516",
   "metadata": {},
   "outputs": [],
   "source": [
    "# Load MNIST dataset\n",
    "mnist = tf.keras.datasets.mnist\n",
    "(train_images, train_labels), (test_images, test_labels) = mnist.load_data()\n",
    "\n",
    "# Normalize the input image so that each pixel value is between 0 to 1.\n",
    "train_images = train_images.astype(np.float32) / 255.0\n",
    "test_images = test_images.astype(np.float32) / 255.0"
   ]
  },
  {
   "cell_type": "code",
   "execution_count": 124,
   "id": "dfcf1e24",
   "metadata": {},
   "outputs": [],
   "source": [
    "# Define the model architecture\n",
    "# CNN\n",
    "initializer = tf.keras.initializers.GlorotUniform(0)\n",
    "\n",
    "model = tf.keras.Sequential([\n",
    "    tf.keras.layers.InputLayer(input_shape=(28, 28)),\n",
    "    tf.keras.layers.Reshape(target_shape=(28, 28, 1)),\n",
    "    tf.keras.layers.Conv2D(filters=2, kernel_size=(3, 3), activation='relu', kernel_initializer=initializer, bias_initializer=initializer),\n",
    "    tf.keras.layers.MaxPooling2D(pool_size=(2, 2)),\n",
    "    tf.keras.layers.Conv2D(filters=2, kernel_size=(3, 3), activation='relu', kernel_initializer=initializer, bias_initializer=initializer),\n",
    "    tf.keras.layers.MaxPooling2D(pool_size=(2, 2)),\n",
    "    tf.keras.layers.Flatten(),\n",
    "    tf.keras.layers.Dense(256, activation='relu', kernel_initializer=initializer, bias_initializer=initializer),\n",
    "    tf.keras.layers.Dense(10, kernel_initializer=initializer, bias_initializer=initializer)\n",
    "])\n",
    "\n",
    "# Train the digit classification model\n",
    "model.compile(optimizer='adam',\n",
    "              loss=tf.keras.losses.SparseCategoricalCrossentropy(\n",
    "                  from_logits=True),\n",
    "              metrics=['accuracy'])"
   ]
  },
  {
   "cell_type": "code",
   "execution_count": 125,
   "id": "f2d6a799",
   "metadata": {},
   "outputs": [
    {
     "name": "stdout",
     "output_type": "stream",
     "text": [
      "Model: \"sequential_11\"\n",
      "_________________________________________________________________\n",
      " Layer (type)                Output Shape              Param #   \n",
      "=================================================================\n",
      " reshape_11 (Reshape)        (None, 28, 28, 1)         0         \n",
      "                                                                 \n",
      " conv2d_17 (Conv2D)          (None, 26, 26, 2)         20        \n",
      "                                                                 \n",
      " max_pooling2d_15 (MaxPoolin  (None, 13, 13, 2)        0         \n",
      " g2D)                                                            \n",
      "                                                                 \n",
      " conv2d_18 (Conv2D)          (None, 11, 11, 2)         38        \n",
      "                                                                 \n",
      " max_pooling2d_16 (MaxPoolin  (None, 5, 5, 2)          0         \n",
      " g2D)                                                            \n",
      "                                                                 \n",
      " flatten_5 (Flatten)         (None, 50)                0         \n",
      "                                                                 \n",
      " dense_6 (Dense)             (None, 256)               13056     \n",
      "                                                                 \n",
      " dense_7 (Dense)             (None, 10)                2570      \n",
      "                                                                 \n",
      "=================================================================\n",
      "Total params: 15,684\n",
      "Trainable params: 15,684\n",
      "Non-trainable params: 0\n",
      "_________________________________________________________________\n"
     ]
    }
   ],
   "source": [
    "model.summary()"
   ]
  },
  {
   "cell_type": "code",
   "execution_count": 126,
   "id": "b45b77e0",
   "metadata": {},
   "outputs": [
    {
     "name": "stderr",
     "output_type": "stream",
     "text": [
      "WARNING:absl:Found untraced functions such as _jit_compiled_convolution_op, _jit_compiled_convolution_op, _update_step_xla while saving (showing 3 of 3). These functions will not be directly callable after loading.\n"
     ]
    },
    {
     "name": "stdout",
     "output_type": "stream",
     "text": [
      "INFO:tensorflow:Assets written to: /tmp/tmpfcfd791m/assets\n"
     ]
    },
    {
     "name": "stderr",
     "output_type": "stream",
     "text": [
      "INFO:tensorflow:Assets written to: /tmp/tmpfcfd791m/assets\n",
      "/home/thai/.local/lib/python3.10/site-packages/tensorflow/lite/python/convert.py:765: UserWarning: Statistics for quantized inputs were expected, but not specified; continuing anyway.\n",
      "  warnings.warn(\"Statistics for quantized inputs were expected, but not \"\n",
      "2023-06-06 20:47:41.363852: W tensorflow/compiler/mlir/lite/python/tf_tfl_flatbuffer_helpers.cc:362] Ignored output_format.\n",
      "2023-06-06 20:47:41.363880: W tensorflow/compiler/mlir/lite/python/tf_tfl_flatbuffer_helpers.cc:365] Ignored drop_control_dependency.\n",
      "2023-06-06 20:47:41.364016: I tensorflow/cc/saved_model/reader.cc:45] Reading SavedModel from: /tmp/tmpfcfd791m\n",
      "2023-06-06 20:47:41.365169: I tensorflow/cc/saved_model/reader.cc:89] Reading meta graph with tags { serve }\n",
      "2023-06-06 20:47:41.365184: I tensorflow/cc/saved_model/reader.cc:130] Reading SavedModel debug info (if present) from: /tmp/tmpfcfd791m\n",
      "2023-06-06 20:47:41.368851: I tensorflow/cc/saved_model/loader.cc:229] Restoring SavedModel bundle.\n",
      "2023-06-06 20:47:41.393867: I tensorflow/cc/saved_model/loader.cc:213] Running initialization op on SavedModel bundle at path: /tmp/tmpfcfd791m\n",
      "2023-06-06 20:47:41.401774: I tensorflow/cc/saved_model/loader.cc:305] SavedModel load for tags { serve }; Status: success: OK. Took 37758 microseconds.\n",
      "fully_quantize: 0, inference_type: 6, input_inference_type: UINT8, output_inference_type: UINT8\n"
     ]
    }
   ],
   "source": [
    "def representative_data_gen():\n",
    "  for input_value in tf.data.Dataset.from_tensor_slices(train_images).batch(1).take(100):\n",
    "    yield [input_value]\n",
    "\n",
    "converter = tf.lite.TFLiteConverter.from_keras_model(model)\n",
    "converter.optimizations = [tf.lite.Optimize.DEFAULT]\n",
    "converter.representative_dataset = representative_data_gen\n",
    "# Ensure that if any ops can't be quantized, the converter throws an error\n",
    "converter.target_spec.supported_ops = [tf.lite.OpsSet.TFLITE_BUILTINS_INT8]\n",
    "# Set the input and output tensors to uint8 (APIs added in r2.3)\n",
    "converter.inference_input_type = tf.uint8\n",
    "converter.inference_output_type = tf.uint8\n",
    "\n",
    "tflite_model_quant_it = converter.convert()"
   ]
  },
  {
   "cell_type": "code",
   "execution_count": 127,
   "id": "71dd8b0c",
   "metadata": {},
   "outputs": [
    {
     "data": {
      "text/plain": [
       "21936"
      ]
     },
     "execution_count": 127,
     "metadata": {},
     "output_type": "execute_result"
    }
   ],
   "source": [
    "import pathlib\n",
    "\n",
    "tflite_models_dir = pathlib.Path(\"./cnn_mnist_debug/\")\n",
    "tflite_models_dir.mkdir(exist_ok=True, parents=True)\n",
    "\n",
    "# Save the integer-only quantized model:\n",
    "tflite_model_quant_it_file = tflite_models_dir/\"cnn_mist_debug_model.tflite\"\n",
    "tflite_model_quant_it_file.write_bytes(tflite_model_quant_it)"
   ]
  },
  {
   "cell_type": "code",
   "execution_count": 128,
   "id": "4719a583",
   "metadata": {},
   "outputs": [],
   "source": [
    "# Helper function to run inference on a TFLite model\n",
    "output_result = 0\n",
    "input_result = 0\n",
    "\n",
    "def run_tflite_model(tflite_file, test_image_indices):\n",
    "  global test_images\n",
    "  global output_result\n",
    "  global input_result\n",
    "\n",
    "  # Initialize the interpreter\n",
    "  interpreter = tf.lite.Interpreter(model_path=str(tflite_file))\n",
    "  interpreter.allocate_tensors()\n",
    "\n",
    "  input_details = interpreter.get_input_details()[0]\n",
    "  output_details = interpreter.get_output_details()[0]\n",
    "\n",
    "  predictions = np.zeros((len(test_image_indices),), dtype=int)\n",
    "  for i, test_image_index in enumerate(test_image_indices):\n",
    "    test_image = test_images[test_image_index]\n",
    "    test_label = test_labels[test_image_index]\n",
    "\n",
    "    # Check if the input type is quantized, then rescale input data to uint8\n",
    "    if input_details['dtype'] == np.uint8:\n",
    "      input_scale, input_zero_point = input_details[\"quantization\"]\n",
    "      test_image = test_image / input_scale + input_zero_point        \n",
    "\n",
    "    test_image = np.expand_dims(test_image, axis=0).astype(input_details[\"dtype\"])\n",
    "    input_result = test_image\n",
    "    \n",
    "    interpreter.set_tensor(input_details[\"index\"], test_image)\n",
    "    interpreter.invoke()\n",
    "    output = interpreter.get_tensor(output_details[\"index\"])[0]\n",
    "    output_result = interpreter.get_tensor(output_details[\"index\"])[0]\n",
    "\n",
    "    predictions[i] = output.argmax()\n",
    "\n",
    "  return predictions"
   ]
  },
  {
   "cell_type": "code",
   "execution_count": 129,
   "id": "91ec5ae0",
   "metadata": {},
   "outputs": [],
   "source": [
    "import matplotlib.pylab as plt\n",
    "\n",
    "# Change this to test a different image\n",
    "test_image_index = 0\n",
    "\n",
    "## Helper function to test the models on one image\n",
    "def test_model(tflite_file, test_image_index, model_type):\n",
    "    global test_labels\n",
    "\n",
    "    predictions = run_tflite_model(tflite_file, [test_image_index])\n",
    "\n",
    "    plt.imshow(test_images[test_image_index])\n",
    "    template = model_type + \" Model \\n True:{true}, Predicted:{predict}\"\n",
    "    _ = plt.title(template.format(true= str(test_labels[test_image_index]), predict=str(predictions[0])))\n",
    "    plt.grid(False)\n",
    "    \n",
    "    return predictions"
   ]
  },
  {
   "cell_type": "code",
   "execution_count": 130,
   "id": "f39fea08",
   "metadata": {},
   "outputs": [
    {
     "data": {
      "image/png": "[encoded data removed]",
      "text/plain": [
       "<Figure size 640x480 with 1 Axes>"
      ]
     },
     "metadata": {},
     "output_type": "display_data"
    }
   ],
   "source": [
    "predictions = test_model(tflite_model_quant_it_file, test_image_index, model_type=\"Integer-Only \")"
   ]
  },
  {
   "cell_type": "code",
   "execution_count": 131,
   "id": "44c468b2",
   "metadata": {},
   "outputs": [
    {
     "name": "stdout",
     "output_type": "stream",
     "text": [
      "INPUT RESULT!!!\n",
      "0, 0, 0, 0, 0, 0, 0, 0, 0, 0, 0, 0, 0, 0, 0, 0, 0, 0, 0, 0, 0, 0, 0, 0, 0, 0, 0, 0, \n",
      "0, 0, 0, 0, 0, 0, 0, 0, 0, 0, 0, 0, 0, 0, 0, 0, 0, 0, 0, 0, 0, 0, 0, 0, 0, 0, 0, 0, \n",
      "0, 0, 0, 0, 0, 0, 0, 0, 0, 0, 0, 0, 0, 0, 0, 0, 0, 0, 0, 0, 0, 0, 0, 0, 0, 0, 0, 0, \n",
      "0, 0, 0, 0, 0, 0, 0, 0, 0, 0, 0, 0, 0, 0, 0, 0, 0, 0, 0, 0, 0, 0, 0, 0, 0, 0, 0, 0, \n",
      "0, 0, 0, 0, 0, 0, 0, 0, 0, 0, 0, 0, 0, 0, 0, 0, 0, 0, 0, 0, 0, 0, 0, 0, 0, 0, 0, 0, \n",
      "0, 0, 0, 0, 0, 0, 0, 0, 0, 0, 0, 0, 0, 0, 0, 0, 0, 0, 0, 0, 0, 0, 0, 0, 0, 0, 0, 0, \n",
      "0, 0, 0, 0, 0, 0, 0, 0, 0, 0, 0, 0, 0, 0, 0, 0, 0, 0, 0, 0, 0, 0, 0, 0, 0, 0, 0, 0, \n",
      "0, 0, 0, 0, 0, 0, 84, 185, 159, 151, 59, 36, 0, 0, 0, 0, 0, 0, 0, 0, 0, 0, 0, 0, 0, 0, 0, 0, \n",
      "0, 0, 0, 0, 0, 0, 221, 253, 253, 253, 253, 240, 197, 197, 197, 197, 197, 197, 197, 197, 170, 51, 0, 0, 0, 0, 0, 0, \n",
      "0, 0, 0, 0, 0, 0, 67, 113, 72, 113, 163, 226, 253, 224, 253, 253, 253, 249, 228, 253, 253, 140, 0, 0, 0, 0, 0, 0, \n",
      "0, 0, 0, 0, 0, 0, 0, 0, 0, 0, 0, 17, 66, 13, 67, 67, 67, 58, 21, 235, 253, 105, 0, 0, 0, 0, 0, 0, \n",
      "0, 0, 0, 0, 0, 0, 0, 0, 0, 0, 0, 0, 0, 0, 0, 0, 0, 0, 83, 252, 208, 18, 0, 0, 0, 0, 0, 0, \n",
      "0, 0, 0, 0, 0, 0, 0, 0, 0, 0, 0, 0, 0, 0, 0, 0, 0, 22, 232, 254, 83, 0, 0, 0, 0, 0, 0, 0, \n",
      "0, 0, 0, 0, 0, 0, 0, 0, 0, 0, 0, 0, 0, 0, 0, 0, 0, 129, 253, 237, 44, 0, 0, 0, 0, 0, 0, 0, \n",
      "0, 0, 0, 0, 0, 0, 0, 0, 0, 0, 0, 0, 0, 0, 0, 0, 58, 248, 253, 61, 0, 0, 0, 0, 0, 0, 0, 0, \n",
      "0, 0, 0, 0, 0, 0, 0, 0, 0, 0, 0, 0, 0, 0, 0, 0, 133, 253, 187, 5, 0, 0, 0, 0, 0, 0, 0, 0, \n",
      "0, 0, 0, 0, 0, 0, 0, 0, 0, 0, 0, 0, 0, 0, 0, 9, 204, 247, 57, 0, 0, 0, 0, 0, 0, 0, 0, 0, \n",
      "0, 0, 0, 0, 0, 0, 0, 0, 0, 0, 0, 0, 0, 0, 0, 125, 253, 182, 0, 0, 0, 0, 0, 0, 0, 0, 0, 0, \n",
      "0, 0, 0, 0, 0, 0, 0, 0, 0, 0, 0, 0, 0, 0, 75, 250, 239, 56, 0, 0, 0, 0, 0, 0, 0, 0, 0, 0, \n",
      "0, 0, 0, 0, 0, 0, 0, 0, 0, 0, 0, 0, 0, 19, 220, 253, 166, 0, 0, 0, 0, 0, 0, 0, 0, 0, 0, 0, \n",
      "0, 0, 0, 0, 0, 0, 0, 0, 0, 0, 0, 0, 3, 202, 253, 218, 35, 0, 0, 0, 0, 0, 0, 0, 0, 0, 0, 0, \n",
      "0, 0, 0, 0, 0, 0, 0, 0, 0, 0, 0, 0, 38, 253, 253, 77, 0, 0, 0, 0, 0, 0, 0, 0, 0, 0, 0, 0, \n",
      "0, 0, 0, 0, 0, 0, 0, 0, 0, 0, 0, 30, 223, 253, 114, 1, 0, 0, 0, 0, 0, 0, 0, 0, 0, 0, 0, 0, \n",
      "0, 0, 0, 0, 0, 0, 0, 0, 0, 0, 0, 133, 253, 253, 51, 0, 0, 0, 0, 0, 0, 0, 0, 0, 0, 0, 0, 0, \n",
      "0, 0, 0, 0, 0, 0, 0, 0, 0, 0, 60, 241, 253, 253, 51, 0, 0, 0, 0, 0, 0, 0, 0, 0, 0, 0, 0, 0, \n",
      "0, 0, 0, 0, 0, 0, 0, 0, 0, 0, 120, 253, 253, 218, 40, 0, 0, 0, 0, 0, 0, 0, 0, 0, 0, 0, 0, 0, \n",
      "0, 0, 0, 0, 0, 0, 0, 0, 0, 0, 120, 253, 206, 18, 0, 0, 0, 0, 0, 0, 0, 0, 0, 0, 0, 0, 0, 0, \n",
      "0, 0, 0, 0, 0, 0, 0, 0, 0, 0, 0, 0, 0, 0, 0, 0, 0, 0, 0, 0, 0, 0, 0, 0, 0, 0, 0, 0, \n",
      "\n"
     ]
    }
   ],
   "source": [
    "print(\"INPUT RESULT!!!\")\n",
    "STR = \"\"\n",
    "for line in input_result[0]:\n",
    "    for ele in line:\n",
    "        STR += str(ele) + ', '\n",
    "    STR += '\\n'\n",
    "print(STR)"
   ]
  },
  {
   "cell_type": "code",
   "execution_count": 48,
   "id": "b6bfd797",
   "metadata": {},
   "outputs": [
    {
     "name": "stdout",
     "output_type": "stream",
     "text": [
      "CONV_0 LAYER RESULT!!!\n",
      "(26, 26, 2)\n",
      "Channel 0\n",
      "0, 0, 0, 0, 0, 0, 0, 0, 0, 0, 0, 0, 0, 0, 0, 0, 0, 0, 0, 0, 0, 0, 0, 0, 0, 0, \n",
      "0, 0, 0, 0, 0, 0, 0, 0, 0, 0, 0, 0, 0, 0, 0, 0, 0, 0, 0, 0, 0, 0, 0, 0, 0, 0, \n",
      "0, 0, 0, 0, 0, 0, 0, 0, 0, 0, 0, 0, 0, 0, 0, 0, 0, 0, 0, 0, 0, 0, 0, 0, 0, 0, \n",
      "0, 0, 0, 0, 0, 0, 0, 0, 0, 0, 0, 0, 0, 0, 0, 0, 0, 0, 0, 0, 0, 0, 0, 0, 0, 0, \n",
      "0, 0, 0, 0, 0, 0, 0, 0, 0, 0, 0, 0, 0, 0, 0, 0, 0, 0, 0, 0, 0, 0, 0, 0, 0, 0, \n",
      "0, 0, 0, 0, 0, 0, 0, 0, 0, 0, 0, 0, 0, 0, 0, 0, 0, 0, 0, 0, 0, 0, 0, 0, 0, 0, \n",
      "0, 0, 0, 0, 0, 0, 0, 0, 0, 0, 0, 0, 0, 0, 0, 0, 0, 0, 0, 0, 0, 0, 0, 0, 0, 0, \n",
      "0, 0, 0, 0, 0, 0, 0, 0, 0, 0, 0, 0, 0, 0, 0, 0, 0, 0, 0, 0, 0, 0, 0, 0, 0, 0, \n",
      "0, 0, 0, 0, 0, 0, 0, 0, 0, 0, 0, 0, 0, 0, 0, 0, 0, 0, 0, 0, 0, 0, 0, 0, 0, 0, \n",
      "0, 0, 0, 0, 0, 0, 0, 0, 0, 0, 0, 0, 0, 0, 0, 0, 0, 0, 0, 0, 0, 0, 0, 0, 0, 0, \n",
      "0, 0, 0, 0, 0, 0, 0, 0, 0, 0, 0, 0, 0, 0, 0, 0, 0, 0, 0, 0, 0, 0, 0, 0, 0, 0, \n",
      "0, 0, 0, 0, 0, 0, 0, 0, 0, 0, 0, 0, 0, 0, 0, 0, 0, 0, 0, 0, 0, 0, 0, 0, 0, 0, \n",
      "0, 0, 0, 0, 0, 0, 0, 0, 0, 0, 0, 0, 0, 0, 0, 0, 0, 0, 5, 0, 0, 0, 0, 0, 0, 0, \n",
      "0, 0, 0, 0, 0, 0, 0, 0, 0, 0, 0, 0, 0, 0, 0, 0, 0, 0, 0, 0, 0, 0, 0, 0, 0, 0, \n",
      "0, 0, 0, 0, 0, 0, 0, 0, 0, 0, 0, 0, 0, 0, 0, 0, 0, 0, 0, 0, 0, 0, 0, 0, 0, 0, \n",
      "0, 0, 0, 0, 0, 0, 0, 0, 0, 0, 0, 0, 0, 0, 0, 0, 0, 0, 0, 0, 0, 0, 0, 0, 0, 0, \n",
      "0, 0, 0, 0, 0, 0, 0, 0, 0, 0, 0, 0, 0, 0, 0, 0, 7, 0, 0, 0, 0, 0, 0, 0, 0, 0, \n",
      "0, 0, 0, 0, 0, 0, 0, 0, 0, 0, 0, 0, 0, 0, 0, 5, 0, 0, 0, 0, 0, 0, 0, 0, 0, 0, \n",
      "0, 0, 0, 0, 0, 0, 0, 0, 0, 0, 0, 0, 0, 0, 0, 0, 0, 0, 0, 0, 0, 0, 0, 0, 0, 0, \n",
      "0, 0, 0, 0, 0, 0, 0, 0, 0, 0, 0, 0, 0, 0, 0, 0, 0, 0, 0, 0, 0, 0, 0, 0, 0, 0, \n",
      "0, 0, 0, 0, 0, 0, 0, 0, 0, 0, 0, 0, 0, 0, 0, 0, 0, 0, 0, 0, 0, 0, 0, 0, 0, 0, \n",
      "0, 0, 0, 0, 0, 0, 0, 0, 0, 0, 0, 0, 0, 0, 0, 0, 0, 0, 0, 0, 0, 0, 0, 0, 0, 0, \n",
      "0, 0, 0, 0, 0, 0, 0, 0, 0, 0, 0, 0, 0, 0, 0, 0, 0, 0, 0, 0, 0, 0, 0, 0, 0, 0, \n",
      "0, 0, 0, 0, 0, 0, 0, 0, 0, 0, 0, 0, 0, 0, 0, 0, 0, 0, 0, 0, 0, 0, 0, 0, 0, 0, \n",
      "0, 0, 0, 0, 0, 0, 0, 0, 0, 0, 0, 0, 0, 0, 0, 0, 0, 0, 0, 0, 0, 0, 0, 0, 0, 0, \n",
      "0, 0, 0, 0, 0, 0, 0, 0, 0, 0, 0, 0, 0, 0, 0, 0, 0, 0, 0, 0, 0, 0, 0, 0, 0, 0, \n",
      "\n",
      "Channel 1\n",
      "99, 99, 99, 99, 99, 99, 99, 99, 99, 99, 99, 99, 99, 99, 99, 99, 99, 99, 99, 99, 99, 99, 99, 99, 99, 99, \n",
      "99, 99, 99, 99, 99, 99, 99, 99, 99, 99, 99, 99, 99, 99, 99, 99, 99, 99, 99, 99, 99, 99, 99, 99, 99, 99, \n",
      "99, 99, 99, 99, 99, 99, 99, 99, 99, 99, 99, 99, 99, 99, 99, 99, 99, 99, 99, 99, 99, 99, 99, 99, 99, 99, \n",
      "99, 99, 99, 99, 99, 99, 99, 99, 99, 99, 99, 99, 99, 99, 99, 99, 99, 99, 99, 99, 99, 99, 99, 99, 99, 99, \n",
      "99, 99, 99, 99, 99, 99, 99, 99, 99, 99, 99, 99, 99, 99, 99, 99, 99, 99, 99, 99, 99, 99, 99, 99, 99, 99, \n",
      "99, 99, 99, 99, 81, 62, 50, 29, 54, 59, 86, 91, 99, 99, 99, 99, 99, 99, 99, 99, 99, 99, 99, 99, 99, 99, \n",
      "99, 99, 99, 99, 29, 0, 0, 0, 0, 0, 0, 0, 18, 18, 18, 18, 18, 18, 23, 48, 62, 88, 99, 99, 99, 99, \n",
      "99, 99, 99, 99, 45, 77, 50, 31, 0, 0, 0, 0, 0, 0, 0, 0, 0, 0, 0, 0, 10, 57, 99, 99, 99, 99, \n",
      "99, 99, 99, 99, 139, 180, 217, 199, 195, 163, 122, 115, 71, 90, 72, 75, 89, 39, 44, 18, 29, 53, 99, 99, 99, 99, \n",
      "99, 99, 99, 99, 117, 142, 150, 160, 175, 203, 217, 236, 215, 229, 222, 223, 210, 119, 123, 94, 66, 93, 99, 99, 99, 99, \n",
      "99, 99, 99, 99, 99, 99, 99, 99, 99, 103, 120, 118, 129, 132, 140, 133, 54, 52, 82, 102, 93, 110, 99, 99, 99, 99, \n",
      "99, 99, 99, 99, 99, 99, 99, 99, 99, 99, 99, 99, 99, 99, 99, 66, 6, 39, 88, 77, 105, 101, 99, 99, 99, 99, \n",
      "99, 99, 99, 99, 99, 99, 99, 99, 99, 99, 99, 99, 99, 99, 87, 18, 36, 64, 89, 89, 101, 99, 99, 99, 99, 99, \n",
      "99, 99, 99, 99, 99, 99, 99, 99, 99, 99, 99, 99, 99, 99, 55, 15, 51, 113, 100, 128, 105, 99, 99, 99, 99, 99, \n",
      "99, 99, 99, 99, 99, 99, 99, 99, 99, 99, 99, 99, 99, 97, 35, 59, 96, 96, 95, 107, 99, 99, 99, 99, 99, 99, \n",
      "99, 99, 99, 99, 99, 99, 99, 99, 99, 99, 99, 99, 99, 70, 27, 66, 112, 82, 115, 99, 99, 99, 99, 99, 99, 99, \n",
      "99, 99, 99, 99, 99, 99, 99, 99, 99, 99, 99, 99, 83, 15, 25, 72, 91, 94, 107, 99, 99, 99, 99, 99, 99, 99, \n",
      "99, 99, 99, 99, 99, 99, 99, 99, 99, 99, 99, 95, 32, 11, 36, 99, 85, 113, 99, 99, 99, 99, 99, 99, 99, 99, \n",
      "99, 99, 99, 99, 99, 99, 99, 99, 99, 99, 98, 51, 7, 26, 76, 99, 101, 107, 99, 99, 99, 99, 99, 99, 99, 99, \n",
      "99, 99, 99, 99, 99, 99, 99, 99, 99, 99, 90, 0, 38, 46, 112, 105, 116, 99, 99, 99, 99, 99, 99, 99, 99, 99, \n",
      "99, 99, 99, 99, 99, 99, 99, 99, 99, 92, 43, 28, 65, 113, 110, 121, 104, 99, 99, 99, 99, 99, 99, 99, 99, 99, \n",
      "99, 99, 99, 99, 99, 99, 99, 99, 99, 63, 0, 25, 86, 99, 115, 110, 99, 99, 99, 99, 99, 99, 99, 99, 99, 99, \n",
      "99, 99, 99, 99, 99, 99, 99, 99, 86, 20, 35, 20, 87, 50, 93, 99, 99, 99, 99, 99, 99, 99, 99, 99, 99, 99, \n",
      "99, 99, 99, 99, 99, 99, 99, 99, 57, 18, 40, 22, 76, 45, 86, 99, 99, 99, 99, 99, 99, 99, 99, 99, 99, 99, \n",
      "99, 99, 99, 99, 99, 99, 99, 99, 56, 56, 67, 86, 94, 96, 98, 99, 99, 99, 99, 99, 99, 99, 99, 99, 99, 99, \n",
      "99, 99, 99, 99, 99, 99, 99, 99, 97, 122, 157, 189, 145, 135, 105, 99, 99, 99, 99, 99, 99, 99, 99, 99, 99, 99, \n",
      "\n",
      "\n"
     ]
    }
   ],
   "source": [
    "print(\"CONV_0 LAYER RESULT!!!\")\n",
    "STR = \"\"\n",
    "print(output_result.shape)\n",
    "\n",
    "for channel in range(output_result.shape[2]):\n",
    "    STR += \"Channel \" + str(channel) + '\\n'\n",
    "    for height in range(output_result.shape[1]):\n",
    "        for width in range(output_result.shape[0]):\n",
    "            STR += str(output_result[height][width][channel]) + ', '\n",
    "        STR += '\\n'\n",
    "    STR += '\\n'\n",
    "\n",
    "print(STR)"
   ]
  },
  {
   "cell_type": "code",
   "execution_count": 62,
   "id": "0369eead",
   "metadata": {},
   "outputs": [
    {
     "name": "stdout",
     "output_type": "stream",
     "text": [
      "POOL_0 LAYER RESULT!!!\n",
      "(13, 13, 2)\n",
      "Channel 0\n",
      "0, 0, 0, 0, 0, 0, 0, 0, 0, 0, 0, 0, 0, \n",
      "0, 0, 0, 0, 0, 0, 0, 0, 0, 0, 0, 0, 0, \n",
      "0, 0, 0, 0, 0, 0, 0, 0, 0, 0, 0, 0, 0, \n",
      "0, 0, 0, 0, 0, 0, 0, 0, 0, 0, 0, 0, 0, \n",
      "0, 0, 0, 0, 0, 0, 0, 0, 0, 0, 0, 0, 0, \n",
      "0, 0, 0, 0, 0, 0, 0, 0, 0, 0, 0, 0, 0, \n",
      "0, 0, 0, 0, 0, 0, 0, 0, 0, 5, 0, 0, 0, \n",
      "0, 0, 0, 0, 0, 0, 0, 0, 0, 0, 0, 0, 0, \n",
      "0, 0, 0, 0, 0, 0, 0, 5, 7, 0, 0, 0, 0, \n",
      "0, 0, 0, 0, 0, 0, 0, 0, 0, 0, 0, 0, 0, \n",
      "0, 0, 0, 0, 0, 0, 0, 0, 0, 0, 0, 0, 0, \n",
      "0, 0, 0, 0, 0, 0, 0, 0, 0, 0, 0, 0, 0, \n",
      "0, 0, 0, 0, 0, 0, 0, 0, 0, 0, 0, 0, 0, \n",
      "\n",
      "Channel 1\n",
      "99, 99, 99, 99, 99, 99, 99, 99, 99, 99, 99, 99, 99, \n",
      "99, 99, 99, 99, 99, 99, 99, 99, 99, 99, 99, 99, 99, \n",
      "99, 99, 99, 99, 99, 99, 99, 99, 99, 99, 99, 99, 99, \n",
      "99, 99, 77, 50, 0, 0, 18, 18, 18, 48, 88, 99, 99, \n",
      "99, 99, 180, 217, 203, 236, 229, 223, 210, 123, 93, 99, 99, \n",
      "99, 99, 99, 99, 103, 120, 132, 140, 54, 102, 110, 99, 99, \n",
      "99, 99, 99, 99, 99, 99, 99, 87, 113, 128, 105, 99, 99, \n",
      "99, 99, 99, 99, 99, 99, 99, 66, 112, 115, 99, 99, 99, \n",
      "99, 99, 99, 99, 99, 99, 83, 99, 113, 107, 99, 99, 99, \n",
      "99, 99, 99, 99, 99, 98, 46, 112, 116, 99, 99, 99, 99, \n",
      "99, 99, 99, 99, 99, 43, 113, 121, 104, 99, 99, 99, 99, \n",
      "99, 99, 99, 99, 86, 40, 87, 99, 99, 99, 99, 99, 99, \n",
      "99, 99, 99, 99, 122, 189, 145, 105, 99, 99, 99, 99, 99, \n",
      "\n",
      "\n"
     ]
    }
   ],
   "source": [
    "print(\"POOL_0 LAYER RESULT!!!\")\n",
    "STR = \"\"\n",
    "print(output_result.shape)\n",
    "\n",
    "for channel in range(output_result.shape[2]):\n",
    "    STR += \"Channel \" + str(channel) + '\\n'\n",
    "    for height in range(output_result.shape[1]):\n",
    "        for width in range(output_result.shape[0]):\n",
    "            STR += str(output_result[height][width][channel]) + ', '\n",
    "        STR += '\\n'\n",
    "    STR += '\\n'\n",
    "\n",
    "print(STR)"
   ]
  },
  {
   "cell_type": "code",
   "execution_count": 72,
   "id": "0b504c39",
   "metadata": {},
   "outputs": [
    {
     "name": "stdout",
     "output_type": "stream",
     "text": [
      "CONV_1 LAYER RESULT!!!\n",
      "(11, 11, 2)\n",
      "Channel 0\n",
      "0, 0, 0, 0, 0, 0, 0, 0, 0, 0, 0, \n",
      "0, 0, 0, 0, 0, 0, 0, 0, 0, 0, 0, \n",
      "0, 0, 0, 0, 0, 0, 0, 0, 0, 0, 0, \n",
      "0, 0, 0, 0, 0, 0, 0, 0, 0, 0, 0, \n",
      "0, 0, 0, 0, 0, 0, 0, 0, 0, 0, 0, \n",
      "0, 0, 0, 0, 0, 0, 0, 0, 0, 0, 0, \n",
      "0, 0, 0, 0, 0, 0, 0, 0, 0, 0, 0, \n",
      "0, 0, 0, 0, 0, 0, 0, 0, 0, 0, 0, \n",
      "0, 0, 0, 0, 0, 0, 0, 0, 0, 0, 0, \n",
      "0, 0, 0, 0, 0, 0, 0, 0, 0, 0, 0, \n",
      "0, 0, 0, 0, 0, 0, 0, 0, 0, 0, 0, \n",
      "\n",
      "Channel 1\n",
      "0, 0, 0, 0, 0, 0, 0, 0, 0, 0, 0, \n",
      "0, 0, 0, 5, 44, 40, 27, 33, 35, 8, 0, \n",
      "1, 27, 14, 35, 22, 0, 0, 0, 0, 0, 0, \n",
      "0, 0, 0, 0, 0, 0, 0, 0, 0, 0, 0, \n",
      "0, 0, 0, 0, 0, 0, 0, 0, 3, 0, 0, \n",
      "0, 0, 0, 0, 0, 0, 11, 21, 0, 0, 0, \n",
      "0, 0, 0, 0, 0, 9, 2, 0, 0, 0, 0, \n",
      "0, 0, 0, 0, 0, 31, 13, 0, 0, 0, 0, \n",
      "0, 0, 0, 0, 35, 54, 0, 0, 0, 0, 0, \n",
      "0, 0, 0, 0, 70, 10, 0, 0, 0, 0, 0, \n",
      "0, 0, 0, 82, 24, 0, 0, 0, 0, 0, 0, \n",
      "\n",
      "\n"
     ]
    }
   ],
   "source": [
    "print(\"CONV_1 LAYER RESULT!!!\")\n",
    "STR = \"\"\n",
    "print(output_result.shape)\n",
    "\n",
    "for channel in range(output_result.shape[2]):\n",
    "    STR += \"Channel \" + str(channel) + '\\n'\n",
    "    for height in range(output_result.shape[1]):\n",
    "        for width in range(output_result.shape[0]):\n",
    "            STR += str(output_result[height][width][channel]) + ', '\n",
    "        STR += '\\n'\n",
    "    STR += '\\n'\n",
    "\n",
    "print(STR)"
   ]
  },
  {
   "cell_type": "code",
   "execution_count": 81,
   "id": "2d6ec1b9",
   "metadata": {},
   "outputs": [
    {
     "name": "stdout",
     "output_type": "stream",
     "text": [
      "POOL_1 LAYER RESULT!!!\n",
      "(5, 5, 2)\n",
      "Channel 0\n",
      "0, 0, 0, 0, 0, \n",
      "0, 0, 0, 0, 0, \n",
      "0, 0, 0, 0, 0, \n",
      "0, 0, 0, 0, 0, \n",
      "0, 0, 0, 0, 0, \n",
      "\n",
      "Channel 1\n",
      "0, 5, 44, 33, 35, \n",
      "27, 35, 22, 0, 0, \n",
      "0, 0, 0, 21, 3, \n",
      "0, 0, 31, 13, 0, \n",
      "0, 0, 70, 0, 0, \n",
      "\n",
      "\n"
     ]
    }
   ],
   "source": [
    "print(\"POOL_1 LAYER RESULT!!!\")\n",
    "STR = \"\"\n",
    "print(output_result.shape)\n",
    "\n",
    "for channel in range(output_result.shape[2]):\n",
    "    STR += \"Channel \" + str(channel) + '\\n'\n",
    "    for height in range(output_result.shape[1]):\n",
    "        for width in range(output_result.shape[0]):\n",
    "            STR += str(output_result[height][width][channel]) + ', '\n",
    "        STR += '\\n'\n",
    "    STR += '\\n'\n",
    "\n",
    "print(STR)"
   ]
  },
  {
   "cell_type": "code",
   "execution_count": 121,
   "id": "8a753714",
   "metadata": {},
   "outputs": [
    {
     "name": "stdout",
     "output_type": "stream",
     "text": [
      "DENSE_0 LAYER RESULT!!!\n",
      "0 39 42 76 0 68 71 0 50 0 0 0 43 0 0 0 0 0 0 0 0 58 0 0 36 0 0 0 0 61 0 0 0 51 0 12 0 0 0 30 81 72 0 86 67 40 47 0 0 0 53 0 31 0 0 0 0 0 40 98 0 16 62 0 51 36 0 16 0 0 0 14 35 0 0 0 0 58 0 77 59 53 0 35 38 0 0 96 2 0 0 0 21 0 0 66 78 0 44 42 0 9 0 16 6 0 0 23 0 0 1 35 0 0 14 0 28 0 0 31 39 28 0 55 38 0 74 87 0 85 3 0 6 0 0 0 98 73 47 24 0 0 38 0 52 0 21 43 17 0 73 81 8 0 70 3 0 0 21 0 28 11 0 71 0 38 0 0 0 44 44 81 0 11 47 81 6 0 36 0 68 56 0 0 10 39 0 10 0 0 0 61 70 27 72 47 4 0 12 51 0 0 0 0 39 19 104 0 0 0 0 0 92 0 0 54 17 18 0 0 0 42 58 0 93 0 0 0 0 83 0 0 0 0 0 85 31 0 39 82 45 89 0 9 23 0 90 24 0 0 0 0 30 0 0 0 \n"
     ]
    }
   ],
   "source": [
    "print(\"DENSE_0 LAYER RESULT!!!\")\n",
    "STR = \"\"\n",
    "\n",
    "for width in range(output_result.shape[0]):\n",
    "    STR += str(output_result[width]) + ' '\n",
    "print(STR)"
   ]
  },
  {
   "cell_type": "code",
   "execution_count": 132,
   "id": "84041a62",
   "metadata": {},
   "outputs": [
    {
     "name": "stdout",
     "output_type": "stream",
     "text": [
      "DENSE_1 LAYER RESULT!!!\n",
      "65 213 186 165 96 211 192 30 189 93 \n"
     ]
    }
   ],
   "source": [
    "print(\"DENSE_1 LAYER RESULT!!!\")\n",
    "STR = \"\"\n",
    "\n",
    "for width in range(output_result.shape[0]):\n",
    "    STR += str(output_result[width]) + ' '\n",
    "print(STR)"
   ]
  },
  {
   "cell_type": "code",
   "execution_count": null,
   "id": "1f09a299",
   "metadata": {},
   "outputs": [],
   "source": []
  },
  {
   "cell_type": "code",
   "execution_count": null,
   "id": "97194200",
   "metadata": {},
   "outputs": [],
   "source": []
  },
  {
   "cell_type": "code",
   "execution_count": null,
   "id": "d1a1ec90",
   "metadata": {},
   "outputs": [],
   "source": []
  }
 ],
 "metadata": {
  "kernelspec": {
   "display_name": "Python 3 (ipykernel)",
   "language": "python",
   "name": "python3"
  },
  "language_info": {
   "codemirror_mode": {
    "name": "ipython",
    "version": 3
   },
   "file_extension": ".py",
   "mimetype": "text/x-python",
   "name": "python",
   "nbconvert_exporter": "python",
   "pygments_lexer": "ipython3",
   "version": "3.10.6"
  }
 },
 "nbformat": 4,
 "nbformat_minor": 5
}
