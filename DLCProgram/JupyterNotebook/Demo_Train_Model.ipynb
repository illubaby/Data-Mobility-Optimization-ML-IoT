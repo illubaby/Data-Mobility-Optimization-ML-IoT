{
 "cells": [
  {
   "cell_type": "code",
   "execution_count": 77,
   "id": "d7480a4a",
   "metadata": {},
   "outputs": [
    {
     "name": "stdout",
     "output_type": "stream",
     "text": [
      "TensorFlow version:  2.11.0\n"
     ]
    }
   ],
   "source": [
    "import logging\n",
    "logging.getLogger(\"tensorflow\").setLevel(logging.DEBUG)\n",
    "\n",
    "import tensorflow as tf\n",
    "import numpy as np\n",
    "print(\"TensorFlow version: \", tf.__version__)"
   ]
  },
  {
   "cell_type": "code",
   "execution_count": 90,
   "id": "dfcf1e24",
   "metadata": {},
   "outputs": [],
   "source": [
    "# Load MNIST dataset\n",
    "mnist = tf.keras.datasets.mnist\n",
    "(train_images, train_labels), (test_images, test_labels) = mnist.load_data()\n",
    "\n",
    "# Normalize the input image so that each pixel value is between 0 to 1.\n",
    "train_images = train_images.astype(np.float32) / 255.0\n",
    "test_images = test_images.astype(np.float32) / 255.0\n",
    "\n",
    "initializer = tf.keras.initializers.GlorotUniform(0)\n",
    "# Define the model architecture\n",
    "model = tf.keras.Sequential([\n",
    "  tf.keras.layers.InputLayer(input_shape=(28, 28)),\n",
    "  tf.keras.layers.Reshape(target_shape=(28, 28, 1)),\n",
    "  tf.keras.layers.Conv2D(filters=2, kernel_size=(3, 3), activation='relu', kernel_initializer=initializer, bias_initializer=initializer),\n",
    "  tf.keras.layers.MaxPooling2D(pool_size=(2, 2)),\n",
    "  tf.keras.layers.Flatten(),\n",
    "  tf.keras.layers.Dense(10, kernel_initializer=initializer, bias_initializer=initializer)\n",
    "])\n",
    "\n",
    "# Train the digit classification model\n",
    "model.compile(optimizer='adam',\n",
    "              loss=tf.keras.losses.SparseCategoricalCrossentropy(\n",
    "                  from_logits=True),\n",
    "              metrics=['accuracy'])"
   ]
  },
  {
   "cell_type": "code",
   "execution_count": 91,
   "id": "f2d6a799",
   "metadata": {},
   "outputs": [
    {
     "name": "stdout",
     "output_type": "stream",
     "text": [
      "Model: \"sequential_5\"\n",
      "_________________________________________________________________\n",
      " Layer (type)                Output Shape              Param #   \n",
      "=================================================================\n",
      " reshape_5 (Reshape)         (None, 28, 28, 1)         0         \n",
      "                                                                 \n",
      " conv2d_4 (Conv2D)           (None, 26, 26, 2)         20        \n",
      "                                                                 \n",
      " max_pooling2d_2 (MaxPooling  (None, 13, 13, 2)        0         \n",
      " 2D)                                                             \n",
      "                                                                 \n",
      " flatten_1 (Flatten)         (None, 338)               0         \n",
      "                                                                 \n",
      " dense (Dense)               (None, 10)                3390      \n",
      "                                                                 \n",
      "=================================================================\n",
      "Total params: 3,410\n",
      "Trainable params: 3,410\n",
      "Non-trainable params: 0\n",
      "_________________________________________________________________\n"
     ]
    }
   ],
   "source": [
    "model.summary()"
   ]
  },
  {
   "cell_type": "code",
   "execution_count": 92,
   "id": "b45b77e0",
   "metadata": {},
   "outputs": [
    {
     "name": "stderr",
     "output_type": "stream",
     "text": [
      "WARNING:absl:Found untraced functions such as _jit_compiled_convolution_op, _update_step_xla while saving (showing 2 of 2). These functions will not be directly callable after loading.\n"
     ]
    },
    {
     "name": "stdout",
     "output_type": "stream",
     "text": [
      "INFO:tensorflow:Assets written to: /tmp/tmpx1rqaq45/assets\n"
     ]
    },
    {
     "name": "stderr",
     "output_type": "stream",
     "text": [
      "INFO:tensorflow:Assets written to: /tmp/tmpx1rqaq45/assets\n",
      "/home/thai/.local/lib/python3.10/site-packages/tensorflow/lite/python/convert.py:765: UserWarning: Statistics for quantized inputs were expected, but not specified; continuing anyway.\n",
      "  warnings.warn(\"Statistics for quantized inputs were expected, but not \"\n",
      "2023-05-16 15:59:41.275313: W tensorflow/compiler/mlir/lite/python/tf_tfl_flatbuffer_helpers.cc:362] Ignored output_format.\n",
      "2023-05-16 15:59:41.275342: W tensorflow/compiler/mlir/lite/python/tf_tfl_flatbuffer_helpers.cc:365] Ignored drop_control_dependency.\n",
      "2023-05-16 15:59:41.275479: I tensorflow/cc/saved_model/reader.cc:45] Reading SavedModel from: /tmp/tmpx1rqaq45\n",
      "2023-05-16 15:59:41.276326: I tensorflow/cc/saved_model/reader.cc:89] Reading meta graph with tags { serve }\n",
      "2023-05-16 15:59:41.276340: I tensorflow/cc/saved_model/reader.cc:130] Reading SavedModel debug info (if present) from: /tmp/tmpx1rqaq45\n",
      "2023-05-16 15:59:41.278819: I tensorflow/cc/saved_model/loader.cc:229] Restoring SavedModel bundle.\n",
      "2023-05-16 15:59:41.292579: I tensorflow/cc/saved_model/loader.cc:213] Running initialization op on SavedModel bundle at path: /tmp/tmpx1rqaq45\n",
      "2023-05-16 15:59:41.298587: I tensorflow/cc/saved_model/loader.cc:305] SavedModel load for tags { serve }; Status: success: OK. Took 23107 microseconds.\n",
      "fully_quantize: 0, inference_type: 6, input_inference_type: UINT8, output_inference_type: UINT8\n"
     ]
    }
   ],
   "source": [
    "def representative_data_gen():\n",
    "  for input_value in tf.data.Dataset.from_tensor_slices(train_images).batch(1).take(100):\n",
    "    yield [input_value]\n",
    "\n",
    "converter = tf.lite.TFLiteConverter.from_keras_model(model)\n",
    "converter.optimizations = [tf.lite.Optimize.DEFAULT]\n",
    "converter.representative_dataset = representative_data_gen\n",
    "# Ensure that if any ops can't be quantized, the converter throws an error\n",
    "converter.target_spec.supported_ops = [tf.lite.OpsSet.TFLITE_BUILTINS_INT8]\n",
    "# Set the input and output tensors to uint8 (APIs added in r2.3)\n",
    "converter.inference_input_type = tf.uint8\n",
    "converter.inference_output_type = tf.uint8\n",
    "\n",
    "tflite_model_quant_it = converter.convert()"
   ]
  },
  {
   "cell_type": "code",
   "execution_count": 93,
   "id": "71dd8b0c",
   "metadata": {},
   "outputs": [
    {
     "data": {
      "text/plain": [
       "7416"
      ]
     },
     "execution_count": 93,
     "metadata": {},
     "output_type": "execute_result"
    }
   ],
   "source": [
    "import pathlib\n",
    "\n",
    "tflite_models_dir = pathlib.Path(\"./demo_tflite_models/\")\n",
    "tflite_models_dir.mkdir(exist_ok=True, parents=True)\n",
    "\n",
    "# Save the integer-only quantized model:\n",
    "tflite_model_quant_it_file = tflite_models_dir/\"demo_quant_model.tflite\"\n",
    "tflite_model_quant_it_file.write_bytes(tflite_model_quant_it)"
   ]
  },
  {
   "cell_type": "code",
   "execution_count": 94,
   "id": "4719a583",
   "metadata": {},
   "outputs": [],
   "source": [
    "# Helper function to run inference on a TFLite model\n",
    "output_result = 0\n",
    "input_result = 0\n",
    "\n",
    "def run_tflite_model(tflite_file, test_image_indices):\n",
    "  global test_images\n",
    "  global output_result\n",
    "  global input_result\n",
    "\n",
    "  # Initialize the interpreter\n",
    "  interpreter = tf.lite.Interpreter(model_path=str(tflite_file))\n",
    "  interpreter.allocate_tensors()\n",
    "\n",
    "  input_details = interpreter.get_input_details()[0]\n",
    "  output_details = interpreter.get_output_details()[0]\n",
    "\n",
    "  predictions = np.zeros((len(test_image_indices),), dtype=int)\n",
    "  for i, test_image_index in enumerate(test_image_indices):\n",
    "    test_image = test_images[test_image_index]\n",
    "    test_label = test_labels[test_image_index]\n",
    "\n",
    "    # Check if the input type is quantized, then rescale input data to uint8\n",
    "    if input_details['dtype'] == np.uint8:\n",
    "      input_scale, input_zero_point = input_details[\"quantization\"]\n",
    "      test_image = test_image / input_scale + input_zero_point        \n",
    "\n",
    "    test_image = np.expand_dims(test_image, axis=0).astype(input_details[\"dtype\"])\n",
    "    input_result = test_image\n",
    "    \n",
    "    interpreter.set_tensor(input_details[\"index\"], test_image)\n",
    "    interpreter.invoke()\n",
    "    output = interpreter.get_tensor(output_details[\"index\"])[0]\n",
    "    output_result = interpreter.get_tensor(output_details[\"index\"])[0]\n",
    "\n",
    "    predictions[i] = output.argmax()\n",
    "\n",
    "  return predictions"
   ]
  },
  {
   "cell_type": "code",
   "execution_count": 95,
   "id": "91ec5ae0",
   "metadata": {},
   "outputs": [],
   "source": [
    "import matplotlib.pylab as plt\n",
    "\n",
    "# Change this to test a different image\n",
    "test_image_index = 0\n",
    "\n",
    "## Helper function to test the models on one image\n",
    "def test_model(tflite_file, test_image_index, model_type):\n",
    "    global test_labels\n",
    "\n",
    "    predictions = run_tflite_model(tflite_file, [test_image_index])\n",
    "\n",
    "    plt.imshow(test_images[test_image_index])\n",
    "    template = model_type + \" Model \\n True:{true}, Predicted:{predict}\"\n",
    "    _ = plt.title(template.format(true= str(test_labels[test_image_index]), predict=str(predictions[0])))\n",
    "    plt.grid(False)\n",
    "    \n",
    "    return predictions"
   ]
  },
  {
   "cell_type": "code",
   "execution_count": 96,
   "id": "f39fea08",
   "metadata": {},
   "outputs": [
    {
     "data": {
      "image/png": "[encoded data removed]",
      "text/plain": [
       "<Figure size 640x480 with 1 Axes>"
      ]
     },
     "metadata": {},
     "output_type": "display_data"
    }
   ],
   "source": [
    "predictions = test_model(tflite_model_quant_it_file, test_image_index, model_type=\"Integer-Only \")"
   ]
  },
  {
   "cell_type": "code",
   "execution_count": 85,
   "id": "44c468b2",
   "metadata": {},
   "outputs": [
    {
     "name": "stdout",
     "output_type": "stream",
     "text": [
      "INPUT RESULT!!!\n",
      "0, 0, 0, 0, 0, 0, 0, 0, 0, 0, 0, 0, 0, 0, 0, 0, 0, 0, 0, 0, 0, 0, 0, 0, 0, 0, 0, 0, \n",
      "0, 0, 0, 0, 0, 0, 0, 0, 0, 0, 0, 0, 0, 0, 0, 0, 0, 0, 0, 0, 0, 0, 0, 0, 0, 0, 0, 0, \n",
      "0, 0, 0, 0, 0, 0, 0, 0, 0, 0, 0, 0, 0, 0, 0, 0, 0, 0, 0, 0, 0, 0, 0, 0, 0, 0, 0, 0, \n",
      "0, 0, 0, 0, 0, 0, 0, 0, 0, 0, 0, 0, 0, 0, 0, 0, 0, 0, 0, 0, 0, 0, 0, 0, 0, 0, 0, 0, \n",
      "0, 0, 0, 0, 0, 0, 0, 0, 0, 0, 0, 0, 0, 0, 0, 0, 0, 0, 0, 0, 0, 0, 0, 0, 0, 0, 0, 0, \n",
      "0, 0, 0, 0, 0, 0, 0, 0, 0, 0, 0, 0, 0, 0, 0, 0, 0, 0, 0, 0, 0, 0, 0, 0, 0, 0, 0, 0, \n",
      "0, 0, 0, 0, 0, 0, 0, 0, 0, 0, 0, 0, 0, 0, 0, 0, 0, 0, 0, 0, 0, 0, 0, 0, 0, 0, 0, 0, \n",
      "0, 0, 0, 0, 0, 0, 84, 185, 159, 151, 59, 36, 0, 0, 0, 0, 0, 0, 0, 0, 0, 0, 0, 0, 0, 0, 0, 0, \n",
      "0, 0, 0, 0, 0, 0, 221, 253, 253, 253, 253, 240, 197, 197, 197, 197, 197, 197, 197, 197, 170, 51, 0, 0, 0, 0, 0, 0, \n",
      "0, 0, 0, 0, 0, 0, 67, 113, 72, 113, 163, 226, 253, 224, 253, 253, 253, 249, 228, 253, 253, 140, 0, 0, 0, 0, 0, 0, \n",
      "0, 0, 0, 0, 0, 0, 0, 0, 0, 0, 0, 17, 66, 13, 67, 67, 67, 58, 21, 235, 253, 105, 0, 0, 0, 0, 0, 0, \n",
      "0, 0, 0, 0, 0, 0, 0, 0, 0, 0, 0, 0, 0, 0, 0, 0, 0, 0, 83, 252, 208, 18, 0, 0, 0, 0, 0, 0, \n",
      "0, 0, 0, 0, 0, 0, 0, 0, 0, 0, 0, 0, 0, 0, 0, 0, 0, 22, 232, 254, 83, 0, 0, 0, 0, 0, 0, 0, \n",
      "0, 0, 0, 0, 0, 0, 0, 0, 0, 0, 0, 0, 0, 0, 0, 0, 0, 129, 253, 237, 44, 0, 0, 0, 0, 0, 0, 0, \n",
      "0, 0, 0, 0, 0, 0, 0, 0, 0, 0, 0, 0, 0, 0, 0, 0, 58, 248, 253, 61, 0, 0, 0, 0, 0, 0, 0, 0, \n",
      "0, 0, 0, 0, 0, 0, 0, 0, 0, 0, 0, 0, 0, 0, 0, 0, 133, 253, 187, 5, 0, 0, 0, 0, 0, 0, 0, 0, \n",
      "0, 0, 0, 0, 0, 0, 0, 0, 0, 0, 0, 0, 0, 0, 0, 9, 204, 247, 57, 0, 0, 0, 0, 0, 0, 0, 0, 0, \n",
      "0, 0, 0, 0, 0, 0, 0, 0, 0, 0, 0, 0, 0, 0, 0, 125, 253, 182, 0, 0, 0, 0, 0, 0, 0, 0, 0, 0, \n",
      "0, 0, 0, 0, 0, 0, 0, 0, 0, 0, 0, 0, 0, 0, 75, 250, 239, 56, 0, 0, 0, 0, 0, 0, 0, 0, 0, 0, \n",
      "0, 0, 0, 0, 0, 0, 0, 0, 0, 0, 0, 0, 0, 19, 220, 253, 166, 0, 0, 0, 0, 0, 0, 0, 0, 0, 0, 0, \n",
      "0, 0, 0, 0, 0, 0, 0, 0, 0, 0, 0, 0, 3, 202, 253, 218, 35, 0, 0, 0, 0, 0, 0, 0, 0, 0, 0, 0, \n",
      "0, 0, 0, 0, 0, 0, 0, 0, 0, 0, 0, 0, 38, 253, 253, 77, 0, 0, 0, 0, 0, 0, 0, 0, 0, 0, 0, 0, \n",
      "0, 0, 0, 0, 0, 0, 0, 0, 0, 0, 0, 30, 223, 253, 114, 1, 0, 0, 0, 0, 0, 0, 0, 0, 0, 0, 0, 0, \n",
      "0, 0, 0, 0, 0, 0, 0, 0, 0, 0, 0, 133, 253, 253, 51, 0, 0, 0, 0, 0, 0, 0, 0, 0, 0, 0, 0, 0, \n",
      "0, 0, 0, 0, 0, 0, 0, 0, 0, 0, 60, 241, 253, 253, 51, 0, 0, 0, 0, 0, 0, 0, 0, 0, 0, 0, 0, 0, \n",
      "0, 0, 0, 0, 0, 0, 0, 0, 0, 0, 120, 253, 253, 218, 40, 0, 0, 0, 0, 0, 0, 0, 0, 0, 0, 0, 0, 0, \n",
      "0, 0, 0, 0, 0, 0, 0, 0, 0, 0, 120, 253, 206, 18, 0, 0, 0, 0, 0, 0, 0, 0, 0, 0, 0, 0, 0, 0, \n",
      "0, 0, 0, 0, 0, 0, 0, 0, 0, 0, 0, 0, 0, 0, 0, 0, 0, 0, 0, 0, 0, 0, 0, 0, 0, 0, 0, 0, \n",
      "\n"
     ]
    }
   ],
   "source": [
    "print(\"INPUT RESULT!!!\")\n",
    "STR = \"\"\n",
    "for line in input_result[0]:\n",
    "    for ele in line:\n",
    "        STR += str(ele) + ', '\n",
    "    STR += '\\n'\n",
    "print(STR)"
   ]
  },
  {
   "cell_type": "code",
   "execution_count": 17,
   "id": "b6bfd797",
   "metadata": {},
   "outputs": [
    {
     "name": "stdout",
     "output_type": "stream",
     "text": [
      "RESHAPE LAYER RESULT!!!\n",
      "0, 0, 0, 0, 0, 0, 0, 0, 0, 0, 0, 0, 0, 0, 0, 0, 0, 0, 0, 0, 0, 0, 0, 0, 0, 0, 0, 0, \n",
      "0, 0, 0, 0, 0, 0, 0, 0, 0, 0, 0, 0, 0, 0, 0, 0, 0, 0, 0, 0, 0, 0, 0, 0, 0, 0, 0, 0, \n",
      "0, 0, 0, 0, 0, 0, 0, 0, 0, 0, 0, 0, 0, 0, 0, 0, 0, 0, 0, 0, 0, 0, 0, 0, 0, 0, 0, 0, \n",
      "0, 0, 0, 0, 0, 0, 0, 0, 0, 0, 0, 0, 0, 0, 0, 0, 0, 0, 0, 0, 0, 0, 0, 0, 0, 0, 0, 0, \n",
      "0, 0, 0, 0, 0, 0, 0, 0, 0, 0, 0, 0, 0, 0, 0, 0, 0, 0, 0, 0, 0, 0, 0, 0, 0, 0, 0, 0, \n",
      "0, 0, 0, 0, 0, 0, 0, 0, 0, 0, 0, 0, 0, 0, 0, 0, 0, 0, 0, 0, 0, 0, 0, 0, 0, 0, 0, 0, \n",
      "0, 0, 0, 0, 0, 0, 0, 0, 0, 0, 0, 0, 0, 0, 0, 0, 0, 0, 0, 0, 0, 0, 0, 0, 0, 0, 0, 0, \n",
      "0, 0, 0, 0, 0, 0, 84, 185, 159, 151, 59, 36, 0, 0, 0, 0, 0, 0, 0, 0, 0, 0, 0, 0, 0, 0, 0, 0, \n",
      "0, 0, 0, 0, 0, 0, 221, 253, 253, 253, 253, 240, 197, 197, 197, 197, 197, 197, 197, 197, 170, 51, 0, 0, 0, 0, 0, 0, \n",
      "0, 0, 0, 0, 0, 0, 67, 113, 72, 113, 163, 226, 253, 224, 253, 253, 253, 249, 228, 253, 253, 140, 0, 0, 0, 0, 0, 0, \n",
      "0, 0, 0, 0, 0, 0, 0, 0, 0, 0, 0, 17, 66, 13, 67, 67, 67, 58, 21, 235, 253, 105, 0, 0, 0, 0, 0, 0, \n",
      "0, 0, 0, 0, 0, 0, 0, 0, 0, 0, 0, 0, 0, 0, 0, 0, 0, 0, 83, 252, 208, 18, 0, 0, 0, 0, 0, 0, \n",
      "0, 0, 0, 0, 0, 0, 0, 0, 0, 0, 0, 0, 0, 0, 0, 0, 0, 22, 232, 254, 83, 0, 0, 0, 0, 0, 0, 0, \n",
      "0, 0, 0, 0, 0, 0, 0, 0, 0, 0, 0, 0, 0, 0, 0, 0, 0, 129, 253, 237, 44, 0, 0, 0, 0, 0, 0, 0, \n",
      "0, 0, 0, 0, 0, 0, 0, 0, 0, 0, 0, 0, 0, 0, 0, 0, 58, 248, 253, 61, 0, 0, 0, 0, 0, 0, 0, 0, \n",
      "0, 0, 0, 0, 0, 0, 0, 0, 0, 0, 0, 0, 0, 0, 0, 0, 133, 253, 187, 5, 0, 0, 0, 0, 0, 0, 0, 0, \n",
      "0, 0, 0, 0, 0, 0, 0, 0, 0, 0, 0, 0, 0, 0, 0, 9, 204, 247, 57, 0, 0, 0, 0, 0, 0, 0, 0, 0, \n",
      "0, 0, 0, 0, 0, 0, 0, 0, 0, 0, 0, 0, 0, 0, 0, 125, 253, 182, 0, 0, 0, 0, 0, 0, 0, 0, 0, 0, \n",
      "0, 0, 0, 0, 0, 0, 0, 0, 0, 0, 0, 0, 0, 0, 75, 250, 239, 56, 0, 0, 0, 0, 0, 0, 0, 0, 0, 0, \n",
      "0, 0, 0, 0, 0, 0, 0, 0, 0, 0, 0, 0, 0, 19, 220, 253, 166, 0, 0, 0, 0, 0, 0, 0, 0, 0, 0, 0, \n",
      "0, 0, 0, 0, 0, 0, 0, 0, 0, 0, 0, 0, 3, 202, 253, 218, 35, 0, 0, 0, 0, 0, 0, 0, 0, 0, 0, 0, \n",
      "0, 0, 0, 0, 0, 0, 0, 0, 0, 0, 0, 0, 38, 253, 253, 77, 0, 0, 0, 0, 0, 0, 0, 0, 0, 0, 0, 0, \n",
      "0, 0, 0, 0, 0, 0, 0, 0, 0, 0, 0, 30, 223, 253, 114, 1, 0, 0, 0, 0, 0, 0, 0, 0, 0, 0, 0, 0, \n",
      "0, 0, 0, 0, 0, 0, 0, 0, 0, 0, 0, 133, 253, 253, 51, 0, 0, 0, 0, 0, 0, 0, 0, 0, 0, 0, 0, 0, \n",
      "0, 0, 0, 0, 0, 0, 0, 0, 0, 0, 60, 241, 253, 253, 51, 0, 0, 0, 0, 0, 0, 0, 0, 0, 0, 0, 0, 0, \n",
      "0, 0, 0, 0, 0, 0, 0, 0, 0, 0, 120, 253, 253, 218, 40, 0, 0, 0, 0, 0, 0, 0, 0, 0, 0, 0, 0, 0, \n",
      "0, 0, 0, 0, 0, 0, 0, 0, 0, 0, 120, 253, 206, 18, 0, 0, 0, 0, 0, 0, 0, 0, 0, 0, 0, 0, 0, 0, \n",
      "0, 0, 0, 0, 0, 0, 0, 0, 0, 0, 0, 0, 0, 0, 0, 0, 0, 0, 0, 0, 0, 0, 0, 0, 0, 0, 0, 0, \n",
      "\n"
     ]
    }
   ],
   "source": [
    "print(\"RESHAPE LAYER RESULT!!!\")\n",
    "STR = \"\"\n",
    "for line in output_result:\n",
    "    for ele in line:\n",
    "        STR += str(ele[0]) + ', '\n",
    "    STR += '\\n'\n",
    "print(STR)"
   ]
  },
  {
   "cell_type": "code",
   "execution_count": 68,
   "id": "0369eead",
   "metadata": {},
   "outputs": [
    {
     "name": "stdout",
     "output_type": "stream",
     "text": [
      "CONV LAYER RESULT!!!\n",
      "Channel z = 0\n",
      "0 0 0 0 0 0 0 0 0 0 0 0 0 0 0 0 0 0 0 0 0 0 0 0 0 0 \n",
      "0 0 0 0 0 0 0 0 0 0 0 0 0 0 0 0 0 0 0 0 0 0 0 0 0 0 \n",
      "0 0 0 0 0 0 0 0 0 0 0 0 0 0 0 0 0 0 0 0 0 0 0 0 0 0 \n",
      "0 0 0 0 0 0 0 0 0 0 0 0 0 0 0 0 0 0 0 0 0 0 0 0 0 0 \n",
      "0 0 0 0 0 0 0 0 0 0 0 0 0 0 0 0 0 0 0 0 0 0 0 0 0 0 \n",
      "0 0 0 0 0 0 0 0 0 0 0 0 0 0 0 0 0 0 0 0 0 0 0 0 0 0 \n",
      "0 0 0 0 0 0 0 0 0 0 0 0 0 0 0 0 0 0 0 0 0 0 0 0 0 0 \n",
      "0 0 0 0 0 0 0 0 0 0 0 0 0 0 0 0 0 0 0 0 0 0 0 0 0 0 \n",
      "0 0 0 0 0 0 0 0 0 0 0 0 0 0 0 0 0 0 0 0 0 0 0 0 0 0 \n",
      "0 0 0 0 0 0 0 0 0 0 0 0 0 0 0 0 0 0 0 0 0 0 0 0 0 0 \n",
      "0 0 0 0 0 0 0 0 0 0 0 0 0 0 0 0 0 0 0 0 0 0 0 0 0 0 \n",
      "0 0 0 0 0 0 0 0 0 0 0 0 0 0 0 0 0 0 0 0 0 0 0 0 0 0 \n",
      "0 0 0 0 0 0 0 0 0 0 0 0 0 0 0 0 0 0 5 0 0 0 0 0 0 0 \n",
      "0 0 0 0 0 0 0 0 0 0 0 0 0 0 0 0 0 0 0 0 0 0 0 0 0 0 \n",
      "0 0 0 0 0 0 0 0 0 0 0 0 0 0 0 0 0 0 0 0 0 0 0 0 0 0 \n",
      "0 0 0 0 0 0 0 0 0 0 0 0 0 0 0 0 0 0 0 0 0 0 0 0 0 0 \n",
      "0 0 0 0 0 0 0 0 0 0 0 0 0 0 0 0 7 0 0 0 0 0 0 0 0 0 \n",
      "0 0 0 0 0 0 0 0 0 0 0 0 0 0 0 5 0 0 0 0 0 0 0 0 0 0 \n",
      "0 0 0 0 0 0 0 0 0 0 0 0 0 0 0 0 0 0 0 0 0 0 0 0 0 0 \n",
      "0 0 0 0 0 0 0 0 0 0 0 0 0 0 0 0 0 0 0 0 0 0 0 0 0 0 \n",
      "0 0 0 0 0 0 0 0 0 0 0 0 0 0 0 0 0 0 0 0 0 0 0 0 0 0 \n",
      "0 0 0 0 0 0 0 0 0 0 0 0 0 0 0 0 0 0 0 0 0 0 0 0 0 0 \n",
      "0 0 0 0 0 0 0 0 0 0 0 0 0 0 0 0 0 0 0 0 0 0 0 0 0 0 \n",
      "0 0 0 0 0 0 0 0 0 0 0 0 0 0 0 0 0 0 0 0 0 0 0 0 0 0 \n",
      "0 0 0 0 0 0 0 0 0 0 0 0 0 0 0 0 0 0 0 0 0 0 0 0 0 0 \n",
      "0 0 0 0 0 0 0 0 0 0 0 0 0 0 0 0 0 0 0 0 0 0 0 0 0 0 \n",
      "Channel z = 1\n",
      "99 99 99 99 99 99 99 99 99 99 99 99 99 99 99 99 99 99 99 99 99 99 99 99 99 99 \n",
      "99 99 99 99 99 99 99 99 99 99 99 99 99 99 99 99 99 99 99 99 99 99 99 99 99 99 \n",
      "99 99 99 99 99 99 99 99 99 99 99 99 99 99 99 99 99 99 99 99 99 99 99 99 99 99 \n",
      "99 99 99 99 99 99 99 99 99 99 99 99 99 99 99 99 99 99 99 99 99 99 99 99 99 99 \n",
      "99 99 99 99 99 99 99 99 99 99 99 99 99 99 99 99 99 99 99 99 99 99 99 99 99 99 \n",
      "99 99 99 99 81 62 50 29 54 59 86 91 99 99 99 99 99 99 99 99 99 99 99 99 99 99 \n",
      "99 99 99 99 29 0 0 0 0 0 0 0 18 18 18 18 18 18 23 48 62 88 99 99 99 99 \n",
      "99 99 99 99 45 77 50 31 0 0 0 0 0 0 0 0 0 0 0 0 10 57 99 99 99 99 \n",
      "99 99 99 99 139 180 217 199 195 163 122 115 71 90 72 75 89 39 44 18 29 53 99 99 99 99 \n",
      "99 99 99 99 117 142 150 160 175 203 217 236 215 229 222 223 210 119 123 94 66 93 99 99 99 99 \n",
      "99 99 99 99 99 99 99 99 99 103 120 118 129 132 140 133 54 52 82 102 93 110 99 99 99 99 \n",
      "99 99 99 99 99 99 99 99 99 99 99 99 99 99 99 66 6 39 88 77 105 101 99 99 99 99 \n",
      "99 99 99 99 99 99 99 99 99 99 99 99 99 99 87 18 36 64 89 89 101 99 99 99 99 99 \n",
      "99 99 99 99 99 99 99 99 99 99 99 99 99 99 55 15 51 113 100 128 105 99 99 99 99 99 \n",
      "99 99 99 99 99 99 99 99 99 99 99 99 99 97 35 59 96 96 95 107 99 99 99 99 99 99 \n",
      "99 99 99 99 99 99 99 99 99 99 99 99 99 70 27 66 112 82 115 99 99 99 99 99 99 99 \n",
      "99 99 99 99 99 99 99 99 99 99 99 99 83 15 25 72 91 94 107 99 99 99 99 99 99 99 \n",
      "99 99 99 99 99 99 99 99 99 99 99 95 32 11 36 99 85 113 99 99 99 99 99 99 99 99 \n",
      "99 99 99 99 99 99 99 99 99 99 98 51 7 26 76 99 101 107 99 99 99 99 99 99 99 99 \n",
      "99 99 99 99 99 99 99 99 99 99 90 0 38 46 112 105 116 99 99 99 99 99 99 99 99 99 \n",
      "99 99 99 99 99 99 99 99 99 92 43 28 65 113 110 121 104 99 99 99 99 99 99 99 99 99 \n",
      "99 99 99 99 99 99 99 99 99 63 0 25 86 99 115 110 99 99 99 99 99 99 99 99 99 99 \n",
      "99 99 99 99 99 99 99 99 86 20 35 20 87 50 93 99 99 99 99 99 99 99 99 99 99 99 \n",
      "99 99 99 99 99 99 99 99 57 18 40 22 76 45 86 99 99 99 99 99 99 99 99 99 99 99 \n",
      "99 99 99 99 99 99 99 99 56 56 67 86 94 96 98 99 99 99 99 99 99 99 99 99 99 99 \n",
      "99 99 99 99 99 99 99 99 97 122 157 189 145 135 105 99 99 99 99 99 99 99 99 99 99 99 \n",
      "\n"
     ]
    }
   ],
   "source": [
    "print(\"CONV LAYER RESULT!!!\")\n",
    "STR = \"\"\n",
    "\n",
    "for c_i in range(output_result.shape[2]):\n",
    "    STR += \"Channel z = \" + str(c_i) + '\\n'\n",
    "    for h_i in range(output_result.shape[1]):\n",
    "        for w_i in range(output_result.shape[0]):\n",
    "            STR += str(output_result[h_i][w_i][c_i]) + ' '\n",
    "        STR += '\\n'\n",
    "print(STR)"
   ]
  },
  {
   "cell_type": "code",
   "execution_count": 76,
   "id": "61a2b620",
   "metadata": {},
   "outputs": [
    {
     "name": "stdout",
     "output_type": "stream",
     "text": [
      "POOL LAYER RESULT!!!\n",
      "Channel z = 0\n",
      "0 0 0 0 0 0 0 0 0 0 0 0 0 \n",
      "0 0 0 0 0 0 0 0 0 0 0 0 0 \n",
      "0 0 0 0 0 0 0 0 0 0 0 0 0 \n",
      "0 0 0 0 0 0 0 0 0 0 0 0 0 \n",
      "0 0 0 0 0 0 0 0 0 0 0 0 0 \n",
      "0 0 0 0 0 0 0 0 0 0 0 0 0 \n",
      "0 0 0 0 0 0 0 0 0 5 0 0 0 \n",
      "0 0 0 0 0 0 0 0 0 0 0 0 0 \n",
      "0 0 0 0 0 0 0 5 7 0 0 0 0 \n",
      "0 0 0 0 0 0 0 0 0 0 0 0 0 \n",
      "0 0 0 0 0 0 0 0 0 0 0 0 0 \n",
      "0 0 0 0 0 0 0 0 0 0 0 0 0 \n",
      "0 0 0 0 0 0 0 0 0 0 0 0 0 \n",
      "Channel z = 1\n",
      "99 99 99 99 99 99 99 99 99 99 99 99 99 \n",
      "99 99 99 99 99 99 99 99 99 99 99 99 99 \n",
      "99 99 99 99 99 99 99 99 99 99 99 99 99 \n",
      "99 99 77 50 0 0 18 18 18 48 88 99 99 \n",
      "99 99 180 217 203 236 229 223 210 123 93 99 99 \n",
      "99 99 99 99 103 120 132 140 54 102 110 99 99 \n",
      "99 99 99 99 99 99 99 87 113 128 105 99 99 \n",
      "99 99 99 99 99 99 99 66 112 115 99 99 99 \n",
      "99 99 99 99 99 99 83 99 113 107 99 99 99 \n",
      "99 99 99 99 99 98 46 112 116 99 99 99 99 \n",
      "99 99 99 99 99 43 113 121 104 99 99 99 99 \n",
      "99 99 99 99 86 40 87 99 99 99 99 99 99 \n",
      "99 99 99 99 122 189 145 105 99 99 99 99 99 \n",
      "\n"
     ]
    }
   ],
   "source": [
    "print(\"POOL LAYER RESULT!!!\")\n",
    "STR = \"\"\n",
    "\n",
    "for c_i in range(output_result.shape[2]):\n",
    "    STR += \"Channel z = \" + str(c_i) + '\\n'\n",
    "    for h_i in range(output_result.shape[1]):\n",
    "        for w_i in range(output_result.shape[0]):\n",
    "            STR += str(output_result[h_i][w_i][c_i]) + ' '\n",
    "        STR += '\\n'\n",
    "print(STR)"
   ]
  },
  {
   "cell_type": "code",
   "execution_count": 89,
   "id": "a5be6970",
   "metadata": {},
   "outputs": [
    {
     "name": "stdout",
     "output_type": "stream",
     "text": [
      "FLATTEN LAYER RESULT!!!\n",
      "0 99 0 99 0 99 0 99 0 99 0 99 0 99 0 99 0 99 0 99 0 99 0 99 0 99 0 99 0 99 0 99 0 99 0 99 0 99 0 99 0 99 0 99 0 99 0 99 0 99 0 99 0 99 0 99 0 99 0 99 0 99 0 99 0 99 0 99 0 99 0 99 0 99 0 99 0 99 0 99 0 99 0 77 0 50 0 0 0 0 0 18 0 18 0 18 0 48 0 88 0 99 0 99 0 99 0 99 0 180 0 217 0 203 0 236 0 229 0 223 0 210 0 123 0 93 0 99 0 99 0 99 0 99 0 99 0 99 0 103 0 120 0 132 0 140 0 54 0 102 0 110 0 99 0 99 0 99 0 99 0 99 0 99 0 99 0 99 0 99 0 87 0 113 5 128 0 105 0 99 0 99 0 99 0 99 0 99 0 99 0 99 0 99 0 99 0 66 0 112 0 115 0 99 0 99 0 99 0 99 0 99 0 99 0 99 0 99 0 99 0 83 5 99 7 113 0 107 0 99 0 99 0 99 0 99 0 99 0 99 0 99 0 99 0 98 0 46 0 112 0 116 0 99 0 99 0 99 0 99 0 99 0 99 0 99 0 99 0 99 0 43 0 113 0 121 0 104 0 99 0 99 0 99 0 99 0 99 0 99 0 99 0 99 0 86 0 40 0 87 0 99 0 99 0 99 0 99 0 99 0 99 0 99 0 99 0 99 0 99 0 122 0 189 0 145 0 105 0 99 0 99 0 99 0 99 0 99 \n"
     ]
    }
   ],
   "source": [
    "print(\"FLATTEN LAYER RESULT!!!\")\n",
    "STR = \"\"\n",
    "\n",
    "for ele in output_result:\n",
    "    STR += str(ele) + ' '\n",
    "# for c_i in range(output_result.shape[2]):\n",
    "#     STR += \"Channel z = \" + str(c_i) + '\\n'\n",
    "#     for h_i in range(output_result.shape[1]):\n",
    "#         for w_i in range(output_result.shape[0]):\n",
    "#             STR += str(output_result[h_i][w_i][c_i]) + ' '\n",
    "#         STR += '\\n'\n",
    "print(STR)"
   ]
  },
  {
   "cell_type": "code",
   "execution_count": 97,
   "id": "fbac9efb",
   "metadata": {},
   "outputs": [
    {
     "name": "stdout",
     "output_type": "stream",
     "text": [
      "FULLY-CONNECTED LAYER RESULT!!!\n",
      "124 234 139 77 158 222 188 64 111 58 \n"
     ]
    }
   ],
   "source": [
    "print(\"FULLY-CONNECTED LAYER RESULT!!!\")\n",
    "STR = \"\"\n",
    "\n",
    "for ele in output_result:\n",
    "    STR += str(ele) + ' '\n",
    "# for c_i in range(output_result.shape[2]):\n",
    "#     STR += \"Channel z = \" + str(c_i) + '\\n'\n",
    "#     for h_i in range(output_result.shape[1]):\n",
    "#         for w_i in range(output_result.shape[0]):\n",
    "#             STR += str(output_result[h_i][w_i][c_i]) + ' '\n",
    "#         STR += '\\n'\n",
    "print(STR)"
   ]
  },
  {
   "cell_type": "code",
   "execution_count": 107,
   "id": "eafcdc2b",
   "metadata": {},
   "outputs": [],
   "source": [
    "test0 = [-73, -92, -85, -84, 105, 30, -70, -31, 88, -34, 19, -34, 67, -8, -124, 123, 24, 55, 86, -115, -36, -52, -38, -46, 94, -84, -61, -65, 69, 10, 66, -62, -84, -89, 54, 49, -77, 14, -94, -118, -87, -117, -6, -52, -31, -13, 33, -106, -1, -37, 94, -87, 69, 107, -55, 85, 11, -13, -91, 124, 34, 113, 50, -109, 47, 51, -79, 34, -118, -34, -5, -40, -25, 25, 15, 11, -4, -64, 36, 39, 35, -7, 55, -43, 94, -98, -66, 99, 22, 35, 26, -39, -22, 33, -118, -94, 103, -104, 97, -60, 112, -52, 5, 47, -117, 38, -54, -107, 0, -78, 107, 116, 121, -83, -56, 122, -74, 14, -39, 47, 36, -67, -42, -92, 100, 73, -85, -121, 46, -34, 19, -29, 86, 121, 105, 123, 55, -66, 42, 94, -122, -15, -16, -108, 37, 86, 6, -93, 0, -9, 77, -51, 13, -108, 72, 59, 22, 22, -123, 5, -37, 104, -127, 69, 38, 108, 36, -58, 51, -42, -36, -14, 96, -96, -96, 76, 112, 92, 127, 95, 75, 83, -14, -95, 10, 71, 124, 12, -13, -10, -47, 79, 12, -29, 104, 37, 108, 72, -2, -92, -56, -26, 84, 100, 121, -104, 77, 21, -62, 44, -34, 117, 6, -25, 56, 66, 74, -38, -41, -24, 122, 18, 108, -38, -14, 123, 51, -30, -50, 72, -108, 61, 10, 105, 67, 122, 61, 126, -126, 123, 97, 16, 112, 4, -41, 76, 21, 52, 3, -107, 34, 53, -78, 92, -123, 67, -28, -117, 33, -1, 30, -30, 65, 114, -78, 80, -86, 19, -96, 86, 88, 81, -13, -70, 81, -95, -8, 111, -83, 85, 57, 89, -4, 80, 11, 44, -81, -67, 104, 49, -53, -79, 102, -6, -78, -93, -44, -91, -75, 98, -47, 71, -2, 58, -16, -96, -2, -88, -1, 76, -9, 73, 77, 70, 85, -42, -74, 45, 57, 111, -11, -78, 20, -72, 101, -33, 0, 29, 75, -112, -38, -58, 46, 61, 4, 65, -119, -33]"
   ]
  },
  {
   "cell_type": "code",
   "execution_count": 108,
   "id": "9d2660c8",
   "metadata": {},
   "outputs": [],
   "source": [
    "test1 = [0, 99, 0, 99, 0, 99, 0, 99, 0, 99, 0, 99, 0, 99, 0, 99, 0, 99, 0, 99, 0, 99, 0, 99, 0, 99, 0, 99, 0, 99, 0, 99, 0, 99, 0, 99, 0, 99, 0, 99, 0, 99, 0, 99, 0, 99, 0, 99, 0, 99, 0, 99, 0, 99, 0, 99, 0, 99, 0, 99, 0, 99, 0, 99, 0, 99, 0, 99, 0, 99, 0, 99, 0, 99, 0, 99, 0, 99, 0, 99, 0, 99, 0, 77, 0, 50, 0, 0, 0, 0, 0, 18, 0, 18, 0, 18, 0, 48, 0, 88, 0, 99, 0, 99, 0, 99, 0, 99, 0, 180, 0, 217, 0, 203, 0, 236, 0, 229, 0, 223, 0, 210, 0, 123, 0, 93, 0, 99, 0, 99, 0, 99, 0, 99, 0, 99, 0, 99, 0, 103, 0, 120, 0, 132, 0, 140, 0, 54, 0, 102, 0, 110, 0, 99, 0, 99, 0, 99, 0, 99, 0, 99, 0, 99, 0, 99, 0, 99, 0, 99, 0, 87, 0, 113, 5, 128, 0, 105, 0, 99, 0, 99, 0, 99, 0, 99, 0, 99, 0, 99, 0, 99, 0, 99, 0, 99, 0, 66, 0, 112, 0, 115, 0, 99, 0, 99, 0, 99, 0, 99, 0, 99, 0, 99, 0, 99, 0, 99, 0, 99, 0, 83, 5, 99, 7, 113, 0, 107, 0, 99, 0, 99, 0, 99, 0, 99, 0, 99, 0, 99, 0, 99, 0, 99, 0, 98, 0, 46, 0, 112, 0, 116, 0, 99, 0, 99, 0, 99, 0, 99, 0, 99, 0, 99, 0, 99, 0, 99, 0, 99, 0, 43, 0, 113, 0, 121, 0, 104, 0, 99, 0, 99, 0, 99, 0, 99, 0, 99, 0, 99, 0, 99, 0, 99, 0, 86, 0, 40, 0, 87, 0, 99, 0, 99, 0, 99, 0, 99, 0, 99, 0, 99, 0, 99, 0, 99, 0, 99, 0, 99, 0, 122, 0, 189, 0, 145, 0, 105, 0, 99, 0, 99, 0, 99, 0, 99, 0, 99]"
   ]
  },
  {
   "cell_type": "code",
   "execution_count": 111,
   "id": "258f3a02",
   "metadata": {},
   "outputs": [],
   "source": [
    "acc = -59908\n",
    "for i in range(338):\n",
    "    acc += test0[i] * test1[i]"
   ]
  },
  {
   "cell_type": "code",
   "execution_count": 115,
   "id": "3b4e6a5d",
   "metadata": {},
   "outputs": [
    {
     "data": {
      "text/plain": [
       "18912"
      ]
     },
     "execution_count": 115,
     "metadata": {},
     "output_type": "execute_result"
    }
   ],
   "source": [
    "acc"
   ]
  },
  {
   "cell_type": "code",
   "execution_count": 114,
   "id": "0b3157c2",
   "metadata": {},
   "outputs": [
    {
     "data": {
      "text/plain": [
       "124.0584758016"
      ]
     },
     "execution_count": 114,
     "metadata": {},
     "output_type": "execute_result"
    }
   ],
   "source": [
    "acc * 0.0005318568 + 114"
   ]
  },
  {
   "cell_type": "code",
   "execution_count": 127,
   "id": "66822cfb",
   "metadata": {},
   "outputs": [],
   "source": [
    "test4 = [\n",
    "    0, 0, 0, 0, 0, 0, 0, 0, 0, 0, 0, 0, 0, \n",
    "    0, 0, 0, 0, 0, 0, 0, 0, 0, 0, 0, 0, 0, \n",
    "    0, 0, 0, 0, 0, 0, 0, 0, 0, 0, 0, 0, 0, \n",
    "    0, 0, 0, 0, 0, 0, 0, 0, 0, 0, 0, 0, 0, \n",
    "    0, 0, 0, 0, 0, 0, 0, 0, 0, 0, 0, 0, 0, \n",
    "    0, 0, 0, 0, 0, 0, 0, 0, 0, 0, 0, 0, 0, \n",
    "    0, 0, 0, 0, 0, 0, 0, 0, 0, 5, 0, 0, 0, \n",
    "    0, 0, 0, 0, 0, 0, 0, 0, 0, 0, 0, 0, 0, \n",
    "    0, 0, 0, 0, 0, 0, 0, 5, 7, 0, 0, 0, 0, \n",
    "    0, 0, 0, 0, 0, 0, 0, 0, 0, 0, 0, 0, 0, \n",
    "    0, 0, 0, 0, 0, 0, 0, 0, 0, 0, 0, 0, 0, \n",
    "    0, 0, 0, 0, 0, 0, 0, 0, 0, 0, 0, 0, 0, \n",
    "    0, 0, 0, 0, 0, 0, 0, 0, 0, 0, 0, 0, 0, \n",
    "    99, 99, 99, 99, 99, 99, 99, 99, 99, 99, 99, 99, 99, \n",
    "    99, 99, 99, 99, 99, 99, 99, 99, 99, 99, 99, 99, 99, \n",
    "    99, 99, 99, 99, 99, 99, 99, 99, 99, 99, 99, 99, 99, \n",
    "    99, 99, 77, 49, 0, 0, 18, 18, 18, 47, 87, 99, 99, \n",
    "    99, 99, 179, 217, 203, 236, 229, 223, 210, 123, 92, 99, 99, \n",
    "    99, 99, 99, 99, 103, 120, 132, 140, 54, 103, 111, 99, 99, \n",
    "    99, 99, 99, 99, 99, 99, 99, 86, 112, 128, 105, 99, 99, \n",
    "    99, 99, 99, 99, 99, 99, 99, 65, 111, 115, 99, 99, 99, \n",
    "    99, 99, 99, 99, 99, 99, 83, 98, 113, 107, 99, 99, 99, \n",
    "    99, 99, 99, 99, 99, 98, 46, 112, 116, 99, 99, 99, 99, \n",
    "    99, 99, 99, 99, 99, 43, 113, 121, 104, 99, 99, 99, 99, \n",
    "    99, 99, 99, 99, 86, 39, 87, 99, 99, 99, 99, 99, 99, \n",
    "    99, 99, 99, 99, 122, 189, 145, 105, 99, 99, 99, 99, 99\n",
    "]"
   ]
  },
  {
   "cell_type": "code",
   "execution_count": 131,
   "id": "d8f76412",
   "metadata": {},
   "outputs": [],
   "source": [
    "test3 = [-73, -85, 105, -70, 88, 19, 67, -124, 24, 86, -36, -38, 94, -61, 69, 66, -84, 54, -77, -94, -87, -6, -31, 33, -1, 94, 69, -55, 11, -91, 34, 50, 47, -79, -118, -5, -25, 15, -4, 36, 35, 55, 94, -66, 22, 26, -22, -118, 103, 97, 112, 5, -117, -54, 0, 107, 121, -56, -74, -39, 36, -42, 100, -85, 46, 19, 86, 105, 55, 42, -122, -16, 37, 6, 0, 77, 13, 72, 22, -123, -37, -127, 38, 36, 51, -36, 96, -96, 112, 127, 75, -14, 10, 124, -13, -47, 12, 104, 108, -2, -56, 84, 121, 77, -62, -34, 6, 56, 74, -41, 122, 108, -14, 51, -50, -108, 10, 67, 61, -126, 97, 112, -41, 21, 3, 34, -78, -123, -28, 33, 30, 65, -78, -86, -96, 88, -13, 81, -8, -83, 57, -4, 11, -81, 104, -53, 102, -78, -44, -75, -47, -2, -16, -2, -1, -9, 77, 85, -74, 57, -11, 20, 101, 0, 75, -38, 46, 4, -119, -92, -84, 30, -31, -34, -34, -8, 123, 55, -115, -52, -46, -84, -65, 10, -62, -89, 49, 14, -118, -117, -52, -13, -106, -37, -87, 107, 85, -13, 124, 113, -109, 51, 34, -34, -40, 25, 11, -64, 39, -7, -43, -98, 99, 35, -39, 33, -94, -104, -60, -52, 47, 38, -107, -78, 116, -83, 122, 14, 47, -67, -92, 73, -121, -34, -29, 121, 123, -66, 94, -15, -108, 86, -93, -9, -51, -108, 59, 22, 5, 104, 69, 108, -58, -42, -14, -96, 76, 92, 95, 83, -95, 71, 12, -10, 79, -29, 37, 72, -92, -26, 100, -104, 21, 44, 117, -25, 66, -38, -24, 18, -38, 123, -30, 72, 61, 105, 122, 126, 123, 16, 4, 76, 52, -107, 53, 92, 67, -117, -1, -30, 114, 80, 19, 86, 81, -70, -95, 111, 85, 89, 80, 44, -67, 49, -79, -6, -93, -91, 98, 71, 58, -96, -88, 76, 73, 70, -42, 45, 111, -78, -72, -33, 29, -112, -58, 61, 65, -33]"
   ]
  },
  {
   "cell_type": "code",
   "execution_count": 132,
   "id": "16d1686f",
   "metadata": {},
   "outputs": [
    {
     "data": {
      "text/plain": [
       "338"
      ]
     },
     "execution_count": 132,
     "metadata": {},
     "output_type": "execute_result"
    }
   ],
   "source": [
    "len(test3)"
   ]
  },
  {
   "cell_type": "code",
   "execution_count": 133,
   "id": "0672f4b2",
   "metadata": {},
   "outputs": [],
   "source": [
    "acc = -59908\n",
    "for i in range(338):\n",
    "    acc += test3[i] * test4[i]"
   ]
  },
  {
   "cell_type": "code",
   "execution_count": 134,
   "id": "315d1350",
   "metadata": {},
   "outputs": [
    {
     "data": {
      "text/plain": [
       "19378"
      ]
     },
     "execution_count": 134,
     "metadata": {},
     "output_type": "execute_result"
    }
   ],
   "source": [
    "acc"
   ]
  },
  {
   "cell_type": "code",
   "execution_count": 135,
   "id": "7399a320",
   "metadata": {},
   "outputs": [
    {
     "data": {
      "text/plain": [
       "124.3063210704"
      ]
     },
     "execution_count": 135,
     "metadata": {},
     "output_type": "execute_result"
    }
   ],
   "source": [
    "acc * 0.0005318568 + 114"
   ]
  },
  {
   "cell_type": "code",
   "execution_count": 136,
   "id": "fc0b9cc6",
   "metadata": {},
   "outputs": [],
   "source": [
    "a = [9, -15, -27, -6, -5, -10, -12, -13, -24, -23, -16, -16, -4, -9, -33, -6, -1, -5, -12, -1, 3, -2, -7, -3, -29, -47, -18, -17, 0, -11, -1, -6, -9, -12, -22, -25, -14, -38, -27, 9, -15, 0, -2, 0, -14, -17, -21, -18, -18, -11, -20, -38, 17, 3, 6, -9, -5, -6, -3, -12, 3, 9, 7, 20, -42, -9, 3, 12, -1, 14, -9, -16, -7, 13, 12, 16, 39, -34, -21, 4, 23, 22, 22, -1, -20, 17, 19, 6, 35, 28, -19, -16, 9, 31, 20, 17, 3, 0, 5, 17, 5, 17, 11, -25, -16, 14, 9, 9, 6, 4, 2, 8, 10, 23, 12, -2, -3, -1, 3, 0, 2, 2, 11, 2, 11, -5, 1, 14, -16, 2, 2, -10, 4, -5, 1, -9, -30, -16, -34, -3, -14, -28, 20, -11, -8, 5, -27, -31, -30, -63, -63, -56, -61, -51, -22, 4, 0, -9, -28, -48, -64, -34, -59, -54, -61, -62, -27, -4, -1, -1, 1, 5, -3, 5, -2, -5, -1, -4, -18, -8, 8, -1, 9, -3, 2, -4, 4, -2, 10, 2, 10, 7, -4, 7, 3, 2, 8, -6, 2, 7, -11, 4, 8, 8, -3, 2, 9, -2, 1, 0, -3, -4, 9, -13, 8, 11, 26, 12, -7, -4, -3, 5, 8, -1, -10, 3, -12, -19, -13, 11, -8, -8, 1, -2, 6, 7, -16, -2, -18, -14, -19, -25, -17, -20, -10, -6, 2, 0, -3, -30, -33, -29, -31, -14, 2, -37, -32, -29, -21, 0, 8, -5, -37, -38, -41, -26, -25, -9, -9, -32, -41, -26, -18, 5, -4, -18, -29, -26, -15, -8, -13, -9, -32, -43, -19, -8, 9, -2, -14, -35, -15, -15, -6, -1, -8, -22, -20, -23, 1, 2, 0, -8, 17, 9, 12, 22, 7, 5, -23, -6, 11, 5, 6, 6, -1, -2, 1, 5, 35, 16, 20, 13, 3, 8, 9, 3, 6, 10, 9, 15, 24, 20, 15, 14, 4, 10, 7, 6, 2, 6, -5, -11, 6, -11, -4, -9, -10, -13, -12, 5, 8, -1, -1, -4, 2, -9, -8, 0, -5, -4, 1, -8, -3, -13, 6, 9, 6, -8, -6, -1, -6, 1, -4, -1, -11, 5, 5, 12, 0, -3, -4, -18, -15, -13, -4, -1, 0, -14, -4, -11, 10, 2, -1, -11, -22, -13, -29, -47, -31, -39, -22, -4, -9, 5, -6, -7, 5, 1, -16, -39, -67, -57, -26, -27, -8, 2, 1, -1, -18, -7, 7, -32, -52, -38, -41, -26, -17, -18, 5, -1, -2, -6, -17, -39, -27, -13, 2, -15, -24, -20, -28, -32, 0, -3, -17, -35, -24, -15, 11, -1, -5, -12, -14, -31, -10, 11, 6, -30, -45, -20, 4, 13, 10, 5, -14, -15, -24, 1, 5, -35, -47, -49, -22, -8, 4, 15, -1, 7, 0, 12, 13, 9, 9, -26, -32, -11, -7, 30, 28, 23, 21, -3, 6, 0, -2, -1, -1, -1, 6, 5, 0, 16, 11, 11, 8, 4, 4, 3, -11, -16, -19, 7, 2, 4, -11, -17, -29, -10, -13, -7, 4, -21, -11, -2, 4, -5, 12, -4, 2, 6, -6, -8, -22, -3, -11, -24, -5, 6, -9, -7, 0, -3, 8, 7, 21, -15, -3, -16, 4, 5, 4, -2, -5, 3, 0, 6, 10, 15, -2, 9, -11, -5, 11, -2, 9, 7, -2, 5, 13, 24, 9, -3, 9, -2, -1, 5, -1, 0, -16, -14, -1, -4, 7, 19, 3, -12, -11, -9, 12, 3, -1, -13, -28, -4, 3, 13, 20, 13, -15, 6, 16, 22, 9, 8, -19, -16, -19, -3, -2, 16, 0, -14, 1, -1, 1, 8, -9, -3, -23, -7, -9, -5, 9, 1, -4, 4, 0, -1, 11, 5, -6, -18, -18, -15, -8, 3, -11, -1, 2, 4, 16, 20, 10, 6, -5, -10, -19, -20, -14, -25, -3, -2, 10, 12, -6, -4, 1, -2, -10, -19, -11, -3, -21, -5, -3, -4, -2, 0, -8, -1, -4, -11, -34, -40, -23, -13, 0, -11, -20, -21, -13, -21, -16, -19, -15, -17, -14, -3, -5, -1, -23, -18, -1, -12, -12, -11, -3, 1, -15, -2, -19, -25, -1, -13, -2, -13, -2, 1, 3, 0, -2, 0, 4, -20, -27, 1, -20, -1, 4, -8, -8, -2, -4, 5, 2, -2, -5, -21, 12, -6, 2, -2, 6, -6, -6, -3, -4, 3, 0, 4, -3, -12, -6, 13, -2, 1, -4, -11, -12, 4, 18, 9, 8, -5, -12, -1, 4, 12, 3, -8, -28, -26, 4, 8, 18, 22, 12, -13, 4, 14, 12, 1, 4, -20, -20, -6, 9, 14, 15, -2, -4, 11, 4, 18, 0, -7, -14, -3, -2, -1, 8, 15, -5, -2, 17, 0, 4, 4, -1, -3, -5, -6, -5, 6, -3, -21, -8, 5, 2, 0, 8, 5, -7, -7, -6, -13, -7, -20, -9, -8, -9, 10, 7, 4, 0, -2, -8, -13, -33, -7, -20, -3, 1, -8, -23, -20, -30, -33, -33, -27, -27, -35, -39, -10, 4, 6, -4, -18, -29, -3, -5, -11, -19, -13, -25, -24, -5, -2, -3, -20, -12, 0, -6, -3, -2, -4, 4, 4, -1, -1, -22, -7, -4, -18, -1, -1, -8, 3, -2, 6, 8, 5, 9, -24, -6, -12, -18, 3, 4, -2, 0, 13, 19, 15, 15, 12, 2, -4, 1, -5, -3, 0, -4, -6, -2, 12, 20, 20, 10, 1, -8, -13, -6, -11, -7, -14, -13, -17, 2, 5, 25, 16, 13, -5, -10, -8, 11, -10, 8, -12, -32, -15, -7, 1, 14, 18, -3, -9, 4, 17, 1, 8, 1, -11, -17, 2, 2, 10, 4, -12, -18, 3, 10, 18, 1, -1, -12, -7, -24, -6, 9, 2, 7, 3, -8, 1, 10, 10, 7, -13, -27, -12, -23, -9, -5, -8, -10, 18, 12, 21, 16, 12, -10, -28, -33, -35, -19, -27, 2, -16, -5, 2, 7, 16, -1, -25, -31, -53, -60, -18, -25, -2, -6, -15, -19, -42, -57, -65, -69, -49, -38, -46, -33, -9, 20, 29, 29, 24, 15, 9, 8, 2, 7, 8, 16, 13, 24, 17, 0, 1, -1, -1, -10, -9, 9, 0, -1, -11, 9, -7, -8, -24, -31, -21, -44, -21, -12, 4, -13, 7, -2, -14, -21, 21, 5, 0, -16, -26, -2, -9, 3, 29, -7, 16, -1, -2, 17, -10, -14, -7, 8, -11, 2, 12, 1, 6, 2, 2, -29, 17, 2, 6, 0, 5, 5, 17, 18, -11, 16, 17, 6, -14, -8, 2, -7, -24, -5, -20, -9, -14, -3, 8, 16, 6, -29, -23, 6, 12, -10, -10, -14, -22, -41, -15, 9, 10, 10, -5, -7, 9, 6, 2, 4, -32, -30, 0, 2, 13, 4, -4, -18, -14, 4, 2, 0, 24, 2, 8, 7, 0, 9, 2, 8, -14, 15, 0, 2, -1, 12, 17, 8, -15, -14, -7, -7, -23, -1, -16, -6, 15, 20, 11, 21, 9, 5, -2, -19, -17, -29, 6, 7, 4, -13, -15, -29, -15, -7, -20, -29, -64, -46, -33, 25, 2, -1, 3, -15, -11, 5, 5, 12, 7, -4, -3, 2, 2, 14, -16, -33, 5, -8, 10, 10, 18, 12, 9, -21, -12, -1, -9, -16, -20, -15, -22, -29, -13, -3, -7, -3, 2, -21, -37, -1, -17, -10, 0, -18, -2, 3, 6, 24, 7, 11, 8, -9, 8, 7, -1, 2, 19, -7, 5, 18, 14, 17, -7, -6, -31, 4, 2, 5, -9, 5, -11, 14, 28, 4, 4, 5, 4, -42, -19, 5, 9, -17, -5, -14, -8, -6, -11, -10, 3, 15, -16, -22, 3, 10, -4, -13, -13, -26, -47, -24, 7, 10, 13, 0, -17, 2, 6, 1, -5, -22, -37, -28, -5, 6, 12, 3, 0, 2, 2, -9, -3, 20, -2, -5, -8, -6, -5, 4, -3, -5, 8, 0, -3, -2, 12, 14, 2, -14, -18, -9, -4, -19, 1, -23, -13, 18, 9, 16, 17, 21, 6, 3, -13, -13, -10, -26, -4, 2, -8, -14, -24, -17, -6, -17, -25, -45, -52, -36, -16, -7, -4, -6, -22, -19, -19, -7, -11, -2, -20, -15, -11, -12, 0, -6, -25, -23, -31, -2, -4, -3, -18, 1, -10, 9, -31, -1, -15, -30, -29, -23, -17, -11, -15, -10, -10, -11, 8, -15, 19, -1, -29, -19, -3, 8, -1, -12, 11, 7, -2, 13, -9, 14, -21, -6, -9, 15, 3, 6, -1, 17, 18, 6, 15, -11, 12, -6, 2, 21, 9, 13, 38, 11, 4, 8, 15, 32, 4, -9, 8, 24, 16, 28, 42, 41, -4, -3, 18, 20, 22, 18, -9, 22, 29, 23, 22, 36, 33, -20, 7, 3, 16, 22, 10, -7, 14, 1, 24, 17, 40, 5, 2, 19, 12, 4, 18, -10, 11, 3, -4, 29, 29, 33, 13, -3, -13, -4, -2, -5, -15, 4, -6, -4, 21, 34, 3, -32, -33, -18, -15, -26, -22, -30, -5, -14, -15, -19, -11, -21, -48, -32, -21, -34, -41, -28, -18, 1, -13, -15, -31, -64, -51, -48, -63, -46, -42, -54, -36, -11, 7, -5, -11, -3, 6, 2, 2, -1, -8, -21, -13, -6, 12, 6, -4, 5, -7, 3, 2, 9, 10, 6, 3, 0, 2, -15, 7, 1, -1, -5, -10, -14, -9, -5, -1, -4, 1, -1, -9, 10, -4, -6, -9, -11, -22, -1, 0, 2, -10, -28, -20, -11, 13, 6, -5, -12, -18, -17, -27, -39, -24, -33, -13, -10, -20, 6, 5, -7, 5, 2, -21, -37, -67, -62, -46, -26, -7, 2, -4, -5, -20, -4, -22, -40, -50, -45, -45, -17, -26, -27, -6, -3, 0, -19, -37, -40, -25, -30, -1, -12, -17, -21, -41, -33, 8, -7, -34, -49, -24, -14, -9, -6, -2, -9, -20, -47, -21, 6, -15, -49, -56, -14, 0, 8, 7, 4, -7, -33, -29, 7, 3, -26, -57, -48, -11, 1, 20, 18, 5, -11, -11, 10, 12, 2, 17, -29, -29, -14, 2, 33, 25, 37, 11, -1, 2, 10, 0, 5, 0, 10, 10, 15, 6, 6, 16, 6, 8, 3, 4, 5, -8, -22, -15, -12, -5, -11, -8, -20, -14, -7, -8, 5, 2, -13, -11, -9, -2, -3, 6, -2, 6, -2, -8, -9, -21, -5, -14, -1, 3, -2, -1, 5, 8, 4, -8, 10, 1, -31, 5, -18, 4, -9, 5, -5, -1, 1, 13, 16, 3, -7, -9, -4, -5, 2, -7, 6, 1, -7, -5, -1, 11, 5, 12, -18, -1, 3, 14, 1, 2, 1, -6, -15, 8, 9, 17, 12, -8, -12, -1, 5, 10, 11, -10, -26, -34, 5, 17, 13, 18, 7, -16, 4, 4, 24, 9, -8, -34, -13, 1, 1, 15, 14, -4, -14, 5, 7, 13, 6, 1, -27, -8, -3, 3, 13, 9, -22, -2, 10, 8, 11, 16, 5, 2, -12, -9, -9, -7, -5, -17, -10, 2, 6, 7, -4, 7, -1, 1, -18, -20, -12, -22, -16, -10, 2, 8, 1, 6, 14, -4, -12, -4, -32, -20, -24, -5, -6, 4, -22, -33, -30, -34, -39, -42, -32, -58, -43, -26, -2, 1, -9, -10, -11, -6, -16, -10, -9, -9, -12, -4, -3, -6, 5, -27, 0, -2, -13, -5, 3, -7, 6, -7, 0, -22, -15, -10, -17, -3, -11, 0, -3, -7, 3, 8, 2, 11, -17, -28, 2, -24, 5, -5, 3, -6, -3, 10, 12, 11, 9, 17, -11, -2, -3, 4, -2, 4, -9, 8, 4, 8, 10, 12, 8, -5, -8, -7, 6, 2, 4, -7, -16, 3, 15, 6, 14, 16, -5, -8, -5, 11, 6, 4, -7, -28, -10, 2, 4, 10, 17, 1, -14, 5, 12, 8, 7, -7, -30, -12, -4, 6, 14, 13, 4, -8, 9, 13, 20, 8, 3, -6, -12, 3, 1, 6, -3, -1, -10, 9, -1, -1, 7, 0, -4, -12, -7, 0, -3, -5, -5, 0, 4, 14, 5, 4, 5, -1, -6, -13, -21, -6, -26, -10, -17, 1, 12, 7, 14, 3, -2, -5, -6, -23, -10, -13, -23, -7, -11, -9, -17, -19, -29, -18, -13, -23, -36, -39, -21, -6, ]"
   ]
  },
  {
   "cell_type": "code",
   "execution_count": 137,
   "id": "f12bb678",
   "metadata": {},
   "outputs": [
    {
     "data": {
      "text/plain": [
       "2028"
      ]
     },
     "execution_count": 137,
     "metadata": {},
     "output_type": "execute_result"
    }
   ],
   "source": [
    "len(a)"
   ]
  },
  {
   "cell_type": "code",
   "execution_count": null,
   "id": "9ba7015b",
   "metadata": {},
   "outputs": [],
   "source": []
  }
 ],
 "metadata": {
  "kernelspec": {
   "display_name": "Python 3 (ipykernel)",
   "language": "python",
   "name": "python3"
  },
  "language_info": {
   "codemirror_mode": {
    "name": "ipython",
    "version": 3
   },
   "file_extension": ".py",
   "mimetype": "text/x-python",
   "name": "python",
   "nbconvert_exporter": "python",
   "pygments_lexer": "ipython3",
   "version": "3.10.6"
  }
 },
 "nbformat": 4,
 "nbformat_minor": 5
}
